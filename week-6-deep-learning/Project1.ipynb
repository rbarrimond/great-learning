{
  "nbformat": 4,
  "nbformat_minor": 0,
  "metadata": {
    "colab": {
      "provenance": [],
      "authorship_tag": "ABX9TyNE0QGmPYl+cmRFW1bnnUz6",
      "include_colab_link": true
    },
    "kernelspec": {
      "name": "python3",
      "display_name": "Python 3"
    },
    "language_info": {
      "name": "python"
    }
  },
  "cells": [
    {
      "cell_type": "markdown",
      "metadata": {
        "id": "view-in-github",
        "colab_type": "text"
      },
      "source": [
        "<a href=\"https://colab.research.google.com/github/rbarrimond/mit-idss-data-science/blob/main/week-6-deep-learning/Project1.ipynb\" target=\"_parent\"><img src=\"https://colab.research.google.com/assets/colab-badge.svg\" alt=\"Open In Colab\"/></a>"
      ]
    },
    {
      "cell_type": "code",
      "execution_count": 2,
      "metadata": {
        "colab": {
          "base_uri": "https://localhost:8080/",
          "height": 73
        },
        "id": "VoebMpz5IL2V",
        "outputId": "892c0210-f7f1-469b-a7f0-26403f328ba0"
      },
      "outputs": [
        {
          "output_type": "display_data",
          "data": {
            "text/plain": [
              "<IPython.core.display.HTML object>"
            ],
            "text/html": [
              "\n",
              "     <input type=\"file\" id=\"files-4cc77769-6ac0-48a2-82a6-0c6b21b971e0\" name=\"files[]\" multiple disabled\n",
              "        style=\"border:none\" />\n",
              "     <output id=\"result-4cc77769-6ac0-48a2-82a6-0c6b21b971e0\">\n",
              "      Upload widget is only available when the cell has been executed in the\n",
              "      current browser session. Please rerun this cell to enable.\n",
              "      </output>\n",
              "      <script>// Copyright 2017 Google LLC\n",
              "//\n",
              "// Licensed under the Apache License, Version 2.0 (the \"License\");\n",
              "// you may not use this file except in compliance with the License.\n",
              "// You may obtain a copy of the License at\n",
              "//\n",
              "//      http://www.apache.org/licenses/LICENSE-2.0\n",
              "//\n",
              "// Unless required by applicable law or agreed to in writing, software\n",
              "// distributed under the License is distributed on an \"AS IS\" BASIS,\n",
              "// WITHOUT WARRANTIES OR CONDITIONS OF ANY KIND, either express or implied.\n",
              "// See the License for the specific language governing permissions and\n",
              "// limitations under the License.\n",
              "\n",
              "/**\n",
              " * @fileoverview Helpers for google.colab Python module.\n",
              " */\n",
              "(function(scope) {\n",
              "function span(text, styleAttributes = {}) {\n",
              "  const element = document.createElement('span');\n",
              "  element.textContent = text;\n",
              "  for (const key of Object.keys(styleAttributes)) {\n",
              "    element.style[key] = styleAttributes[key];\n",
              "  }\n",
              "  return element;\n",
              "}\n",
              "\n",
              "// Max number of bytes which will be uploaded at a time.\n",
              "const MAX_PAYLOAD_SIZE = 100 * 1024;\n",
              "\n",
              "function _uploadFiles(inputId, outputId) {\n",
              "  const steps = uploadFilesStep(inputId, outputId);\n",
              "  const outputElement = document.getElementById(outputId);\n",
              "  // Cache steps on the outputElement to make it available for the next call\n",
              "  // to uploadFilesContinue from Python.\n",
              "  outputElement.steps = steps;\n",
              "\n",
              "  return _uploadFilesContinue(outputId);\n",
              "}\n",
              "\n",
              "// This is roughly an async generator (not supported in the browser yet),\n",
              "// where there are multiple asynchronous steps and the Python side is going\n",
              "// to poll for completion of each step.\n",
              "// This uses a Promise to block the python side on completion of each step,\n",
              "// then passes the result of the previous step as the input to the next step.\n",
              "function _uploadFilesContinue(outputId) {\n",
              "  const outputElement = document.getElementById(outputId);\n",
              "  const steps = outputElement.steps;\n",
              "\n",
              "  const next = steps.next(outputElement.lastPromiseValue);\n",
              "  return Promise.resolve(next.value.promise).then((value) => {\n",
              "    // Cache the last promise value to make it available to the next\n",
              "    // step of the generator.\n",
              "    outputElement.lastPromiseValue = value;\n",
              "    return next.value.response;\n",
              "  });\n",
              "}\n",
              "\n",
              "/**\n",
              " * Generator function which is called between each async step of the upload\n",
              " * process.\n",
              " * @param {string} inputId Element ID of the input file picker element.\n",
              " * @param {string} outputId Element ID of the output display.\n",
              " * @return {!Iterable<!Object>} Iterable of next steps.\n",
              " */\n",
              "function* uploadFilesStep(inputId, outputId) {\n",
              "  const inputElement = document.getElementById(inputId);\n",
              "  inputElement.disabled = false;\n",
              "\n",
              "  const outputElement = document.getElementById(outputId);\n",
              "  outputElement.innerHTML = '';\n",
              "\n",
              "  const pickedPromise = new Promise((resolve) => {\n",
              "    inputElement.addEventListener('change', (e) => {\n",
              "      resolve(e.target.files);\n",
              "    });\n",
              "  });\n",
              "\n",
              "  const cancel = document.createElement('button');\n",
              "  inputElement.parentElement.appendChild(cancel);\n",
              "  cancel.textContent = 'Cancel upload';\n",
              "  const cancelPromise = new Promise((resolve) => {\n",
              "    cancel.onclick = () => {\n",
              "      resolve(null);\n",
              "    };\n",
              "  });\n",
              "\n",
              "  // Wait for the user to pick the files.\n",
              "  const files = yield {\n",
              "    promise: Promise.race([pickedPromise, cancelPromise]),\n",
              "    response: {\n",
              "      action: 'starting',\n",
              "    }\n",
              "  };\n",
              "\n",
              "  cancel.remove();\n",
              "\n",
              "  // Disable the input element since further picks are not allowed.\n",
              "  inputElement.disabled = true;\n",
              "\n",
              "  if (!files) {\n",
              "    return {\n",
              "      response: {\n",
              "        action: 'complete',\n",
              "      }\n",
              "    };\n",
              "  }\n",
              "\n",
              "  for (const file of files) {\n",
              "    const li = document.createElement('li');\n",
              "    li.append(span(file.name, {fontWeight: 'bold'}));\n",
              "    li.append(span(\n",
              "        `(${file.type || 'n/a'}) - ${file.size} bytes, ` +\n",
              "        `last modified: ${\n",
              "            file.lastModifiedDate ? file.lastModifiedDate.toLocaleDateString() :\n",
              "                                    'n/a'} - `));\n",
              "    const percent = span('0% done');\n",
              "    li.appendChild(percent);\n",
              "\n",
              "    outputElement.appendChild(li);\n",
              "\n",
              "    const fileDataPromise = new Promise((resolve) => {\n",
              "      const reader = new FileReader();\n",
              "      reader.onload = (e) => {\n",
              "        resolve(e.target.result);\n",
              "      };\n",
              "      reader.readAsArrayBuffer(file);\n",
              "    });\n",
              "    // Wait for the data to be ready.\n",
              "    let fileData = yield {\n",
              "      promise: fileDataPromise,\n",
              "      response: {\n",
              "        action: 'continue',\n",
              "      }\n",
              "    };\n",
              "\n",
              "    // Use a chunked sending to avoid message size limits. See b/62115660.\n",
              "    let position = 0;\n",
              "    do {\n",
              "      const length = Math.min(fileData.byteLength - position, MAX_PAYLOAD_SIZE);\n",
              "      const chunk = new Uint8Array(fileData, position, length);\n",
              "      position += length;\n",
              "\n",
              "      const base64 = btoa(String.fromCharCode.apply(null, chunk));\n",
              "      yield {\n",
              "        response: {\n",
              "          action: 'append',\n",
              "          file: file.name,\n",
              "          data: base64,\n",
              "        },\n",
              "      };\n",
              "\n",
              "      let percentDone = fileData.byteLength === 0 ?\n",
              "          100 :\n",
              "          Math.round((position / fileData.byteLength) * 100);\n",
              "      percent.textContent = `${percentDone}% done`;\n",
              "\n",
              "    } while (position < fileData.byteLength);\n",
              "  }\n",
              "\n",
              "  // All done.\n",
              "  yield {\n",
              "    response: {\n",
              "      action: 'complete',\n",
              "    }\n",
              "  };\n",
              "}\n",
              "\n",
              "scope.google = scope.google || {};\n",
              "scope.google.colab = scope.google.colab || {};\n",
              "scope.google.colab._files = {\n",
              "  _uploadFiles,\n",
              "  _uploadFilesContinue,\n",
              "};\n",
              "})(self);\n",
              "</script> "
            ]
          },
          "metadata": {}
        },
        {
          "output_type": "stream",
          "name": "stdout",
          "text": [
            "Saving transcript.txt to transcript.txt\n"
          ]
        }
      ],
      "source": [
        "from google.colab import files\n",
        "uploaded = files.upload()"
      ]
    },
    {
      "cell_type": "code",
      "source": [
        "uploaded"
      ],
      "metadata": {
        "colab": {
          "base_uri": "https://localhost:8080/"
        },
        "id": "jb3TvMr9JW5t",
        "outputId": "ede740d7-3d69-4270-bb3f-73f9902c9b86"
      },
      "execution_count": 3,
      "outputs": [
        {
          "output_type": "execute_result",
          "data": {
            "text/plain": [
              "{'transcript.txt': b\"\\xef\\xbb\\xbfAmarjeet (4/21/2021, 11:53:29 PM): Thank you for contacting EA HELP, my name is Amarjeet, may I start with your first name please? \\r\\nRobert (4/21/2021, 11:53:38 PM): Robert \\r\\nAmarjeet (4/21/2021, 11:53:56 PM): Nice to meet you Robert. Hope you are doing good. \\r\\nAmarjeet (4/21/2021, 11:54:00 PM): How may I help you today? \\r\\nRobert (4/21/2021, 11:54:03 PM): I'm doing well. \\r\\nRobert (4/21/2021, 11:54:18 PM): My son is having trouble playing online in Battlefront II \\r\\nRobert (4/21/2021, 11:54:36 PM): It gives an error 4,975 to be exact. \\r\\nAmarjeet (4/21/2021, 11:55:02 PM): Oh okay! No worries, I will check your son account and help in access the online games. \\r\\nRobert (4/21/2021, 11:55:15 PM): Thank you \\r\\nAmarjeet (4/21/2021, 11:55:17 PM): May I know your son's account PSN ID and EA Account email address? \\r\\nRobert (4/21/2021, 11:55:27 PM): marikanobi \\r\\nRobert (4/21/2021, 11:55:43 PM): amari.barrimond@icloud.com \\r\\nAmarjeet (4/21/2021, 11:55:51 PM): Thanks. \\r\\nRobert (4/21/2021, 11:55:53 PM): Or it could be mine \\r\\nRobert (4/21/2021, 11:55:56 PM): robert@barrimond.com \\r\\nAmarjeet (4/21/2021, 11:56:19 PM): I am checking but there is no account found with PSN ID marikanobi . \\r\\nAmarjeet (4/21/2021, 11:56:28 PM): Please share the correct PSN ID. \\r\\nRobert (4/21/2021, 11:56:59 PM): Ah that must be it. \\r\\nRobert (4/21/2021, 11:57:07 PM): We must have done something incorrectly \\r\\nRobert (4/21/2021, 11:57:25 PM): His PSN ID is marikanobi \\r\\nRobert (4/21/2021, 11:57:35 PM): He is in our Family \\r\\nRobert (4/21/2021, 11:57:43 PM): I am the Family Manager \\r\\nRobert (4/21/2021, 11:57:49 PM): robcoolin is my PSN ID \\r\\nAmarjeet (4/21/2021, 11:59:54 PM): I am checking but there is no account found with PSN ID marikanobi. In this case I would suggest to first link the PSN ID with EA Account. \\r\\nAmarjeet (4/22/2021, 12:00:06 AM): After that he would be able to play the game online. \\r\\nRobert (4/22/2021, 12:00:10 AM): Can you help me do that please? \\r\\nAmarjeet (4/22/2021, 12:00:25 AM): You can find the steps here: \\r\\n\\r\\nhttps://help.ea.com/en-gb/help/account/link-your-console-accounts/?franchise=origin&product=origin \\r\\nRobert (4/22/2021, 12:01:24 AM): Ok. Thanks! \\r\\nAmarjeet (4/22/2021, 12:01:46 AM): You're most welcome! \\r\\nAmarjeet (4/22/2021, 12:02:01 AM): After the PSN ID link your son would be able to access the games online. \\r\\nAmarjeet (4/22/2021, 12:02:03 AM): Please let me know if there is anything else that I can help you with. \\r\\nRobert (4/22/2021, 12:02:21 AM): Not at this time. I will try those instructions first \\r\\nAmarjeet (4/22/2021, 12:02:46 AM): Alright! \\r\\nAmarjeet (4/22/2021, 12:02:53 AM): Should you need further help, please feel free to reach us back. Thank you for reaching out to us today. Have a great day! \\r\\n\"}"
            ]
          },
          "metadata": {},
          "execution_count": 3
        }
      ]
    },
    {
      "cell_type": "code",
      "source": [],
      "metadata": {
        "id": "u-1fOLEhJYIw"
      },
      "execution_count": null,
      "outputs": []
    }
  ]
}