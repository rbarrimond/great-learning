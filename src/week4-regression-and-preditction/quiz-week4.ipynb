{
 "cells": [
  {
   "cell_type": "code",
   "execution_count": 8,
   "metadata": {},
   "outputs": [
    {
     "name": "stdout",
     "output_type": "stream",
     "text": [
      "MSE = 25.67\n"
     ]
    }
   ],
   "source": [
    "import numpy as np\n",
    "\n",
    "Y_true = np.array([150, 130, 95, 80, 75, 60])\n",
    "Y_predicted = np.array([140, 132, 100, 80, 70, 60])\n",
    "\n",
    "mse = ((Y_true - Y_predicted) ** 2).mean()\n",
    "print(f'MSE = {mse:.4}')"
   ]
  },
  {
   "cell_type": "code",
   "execution_count": 12,
   "metadata": {},
   "outputs": [
    {
     "name": "stdout",
     "output_type": "stream",
     "text": [
      "Salary = 100002.377\n"
     ]
    }
   ],
   "source": [
    "x1 = 1\n",
    "x2 = 70_000\n",
    "x3 = 1\n",
    "salary = 0.019 + 0.356 * x1 + 1.4286 * x2 + 0.002 * x3\n",
    "print(f'Salary = {salary}')"
   ]
  },
  {
   "cell_type": "code",
   "execution_count": null,
   "metadata": {},
   "outputs": [],
   "source": []
  }
 ],
 "metadata": {
  "kernelspec": {
   "display_name": "Python 3.10.5 ('.venv': poetry)",
   "language": "python",
   "name": "python3"
  },
  "language_info": {
   "codemirror_mode": {
    "name": "ipython",
    "version": 3
   },
   "file_extension": ".py",
   "mimetype": "text/x-python",
   "name": "python",
   "nbconvert_exporter": "python",
   "pygments_lexer": "ipython3",
   "version": "3.10.5"
  },
  "orig_nbformat": 4,
  "vscode": {
   "interpreter": {
    "hash": "8027e8053fdf9292204012df4ebdabee530ab421fddaa40567c83374120858fc"
   }
  }
 },
 "nbformat": 4,
 "nbformat_minor": 2
}
