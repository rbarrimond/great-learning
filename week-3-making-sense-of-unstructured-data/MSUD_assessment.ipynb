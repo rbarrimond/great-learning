{
 "cells": [
  {
   "cell_type": "code",
   "execution_count": 1,
   "metadata": {},
   "outputs": [
    {
     "data": {
      "text/plain": [
       "array([[5, 2, 5, 5, 3],\n",
       "       [4, 5, 5, 4, 5],\n",
       "       [3, 4, 4, 3, 4],\n",
       "       [1, 3, 1, 1, 2]])"
      ]
     },
     "execution_count": 1,
     "metadata": {},
     "output_type": "execute_result"
    }
   ],
   "source": [
    "from pprint import pprint\n",
    "import pandas as pd\n",
    "import numpy as np\n",
    "import itertools\n",
    "from math import dist, sqrt\n",
    "\n",
    "# Setup the data as a NumPy array/matrix\n",
    "data = np.array([5,2,5,5,3,4,5,5,4,5,3,4,4,3,4,1,3,1,1,2]).reshape(4,5)\n",
    "data"
   ]
  },
  {
   "cell_type": "code",
   "execution_count": 2,
   "metadata": {},
   "outputs": [
    {
     "data": {
      "text/html": [
       "<div>\n",
       "<style scoped>\n",
       "    .dataframe tbody tr th:only-of-type {\n",
       "        vertical-align: middle;\n",
       "    }\n",
       "\n",
       "    .dataframe tbody tr th {\n",
       "        vertical-align: top;\n",
       "    }\n",
       "\n",
       "    .dataframe thead th {\n",
       "        text-align: right;\n",
       "    }\n",
       "</style>\n",
       "<table border=\"1\" class=\"dataframe\">\n",
       "  <thead>\n",
       "    <tr style=\"text-align: right;\">\n",
       "      <th></th>\n",
       "      <th>Teaching</th>\n",
       "      <th>Fees</th>\n",
       "      <th>Placements</th>\n",
       "      <th>Internship</th>\n",
       "      <th>Infrastructure</th>\n",
       "    </tr>\n",
       "    <tr>\n",
       "      <th>Engg_College</th>\n",
       "      <th></th>\n",
       "      <th></th>\n",
       "      <th></th>\n",
       "      <th></th>\n",
       "      <th></th>\n",
       "    </tr>\n",
       "  </thead>\n",
       "  <tbody>\n",
       "    <tr>\n",
       "      <th>A</th>\n",
       "      <td>5</td>\n",
       "      <td>2</td>\n",
       "      <td>5</td>\n",
       "      <td>5</td>\n",
       "      <td>3</td>\n",
       "    </tr>\n",
       "    <tr>\n",
       "      <th>B</th>\n",
       "      <td>4</td>\n",
       "      <td>5</td>\n",
       "      <td>5</td>\n",
       "      <td>4</td>\n",
       "      <td>5</td>\n",
       "    </tr>\n",
       "    <tr>\n",
       "      <th>C</th>\n",
       "      <td>3</td>\n",
       "      <td>4</td>\n",
       "      <td>4</td>\n",
       "      <td>3</td>\n",
       "      <td>4</td>\n",
       "    </tr>\n",
       "    <tr>\n",
       "      <th>D</th>\n",
       "      <td>1</td>\n",
       "      <td>3</td>\n",
       "      <td>1</td>\n",
       "      <td>1</td>\n",
       "      <td>2</td>\n",
       "    </tr>\n",
       "  </tbody>\n",
       "</table>\n",
       "</div>"
      ],
      "text/plain": [
       "              Teaching  Fees  Placements  Internship  Infrastructure\n",
       "Engg_College                                                        \n",
       "A                    5     2           5           5               3\n",
       "B                    4     5           5           4               5\n",
       "C                    3     4           4           3               4\n",
       "D                    1     3           1           1               2"
      ]
     },
     "execution_count": 2,
     "metadata": {},
     "output_type": "execute_result"
    }
   ],
   "source": [
    "# Create a dataframe to make manipulation easier\n",
    "school_ratings = pd.DataFrame(data, columns=['Teaching', 'Fees', 'Placements', 'Internship', 'Infrastructure'])\n",
    "school_ratings.index = pd.Series(['A', 'B', 'C', 'D'], name=\"Engg_College\")\n",
    "school_ratings"
   ]
  },
  {
   "cell_type": "code",
   "execution_count": 3,
   "metadata": {},
   "outputs": [
    {
     "data": {
      "text/plain": [
       "array([5, 2, 5, 5, 3])"
      ]
     },
     "execution_count": 3,
     "metadata": {},
     "output_type": "execute_result"
    }
   ],
   "source": [
    "# Double check my code!\n",
    "school_ratings.loc['A'].values"
   ]
  },
  {
   "cell_type": "code",
   "execution_count": 4,
   "metadata": {},
   "outputs": [
    {
     "name": "stdout",
     "output_type": "stream",
     "text": [
      "Distance A -> A : 0.0\n",
      "Distance A -> B : 3.87\n"
     ]
    }
   ],
   "source": [
    "# Test I'm using the Euclidean distance function correctly\n",
    "print(f\"Distance A -> A : {dist(school_ratings.loc['A'], school_ratings.loc['A']):.3}\")\n",
    "print(f\"Distance A -> B : {dist(school_ratings.loc['A'], school_ratings.loc['B']):.3}\")"
   ]
  },
  {
   "cell_type": "code",
   "execution_count": 16,
   "metadata": {},
   "outputs": [
    {
     "data": {
      "text/html": [
       "<div>\n",
       "<style scoped>\n",
       "    .dataframe tbody tr th:only-of-type {\n",
       "        vertical-align: middle;\n",
       "    }\n",
       "\n",
       "    .dataframe tbody tr th {\n",
       "        vertical-align: top;\n",
       "    }\n",
       "\n",
       "    .dataframe thead th {\n",
       "        text-align: right;\n",
       "    }\n",
       "</style>\n",
       "<table border=\"1\" class=\"dataframe\">\n",
       "  <thead>\n",
       "    <tr style=\"text-align: right;\">\n",
       "      <th></th>\n",
       "      <th>EC Distance</th>\n",
       "    </tr>\n",
       "  </thead>\n",
       "  <tbody>\n",
       "    <tr>\n",
       "      <th>('A', 'D')</th>\n",
       "      <td>7.071</td>\n",
       "    </tr>\n",
       "    <tr>\n",
       "      <th>('B', 'D')</th>\n",
       "      <td>6.856</td>\n",
       "    </tr>\n",
       "    <tr>\n",
       "      <th>('C', 'D')</th>\n",
       "      <td>4.690</td>\n",
       "    </tr>\n",
       "    <tr>\n",
       "      <th>('A', 'B')</th>\n",
       "      <td>3.873</td>\n",
       "    </tr>\n",
       "    <tr>\n",
       "      <th>('A', 'C')</th>\n",
       "      <td>3.742</td>\n",
       "    </tr>\n",
       "    <tr>\n",
       "      <th>('B', 'C')</th>\n",
       "      <td>2.236</td>\n",
       "    </tr>\n",
       "  </tbody>\n",
       "</table>\n",
       "</div>"
      ],
      "text/plain": [
       "            EC Distance\n",
       "('A', 'D')        7.071\n",
       "('B', 'D')        6.856\n",
       "('C', 'D')        4.690\n",
       "('A', 'B')        3.873\n",
       "('A', 'C')        3.742\n",
       "('B', 'C')        2.236"
      ]
     },
     "execution_count": 16,
     "metadata": {},
     "output_type": "execute_result"
    }
   ],
   "source": [
    "distances = pd.Series(name=\"EC Distance\", dtype=np.float64)\n",
    "for combo in itertools.combinations(school_ratings.index, 2):\n",
    "    distances.loc[str(combo)] = dist(school_ratings.loc[combo[0]], school_ratings.loc[combo[1]])\n",
    "\n",
    "pd.options.display.float_format = '{:.3f}'.format \n",
    "distances.sort_values(ascending=False).to_frame()"
   ]
  },
  {
   "cell_type": "code",
   "execution_count": 6,
   "metadata": {},
   "outputs": [
    {
     "data": {
      "text/plain": [
       "\"The largest distance is 7.071 between engineering colleges ('A', 'D')\""
      ]
     },
     "execution_count": 6,
     "metadata": {},
     "output_type": "execute_result"
    }
   ],
   "source": [
    "f\"The largest distance is {distances.max():.4} between engineering colleges {distances.index[distances.argmax()]}\""
   ]
  }
 ],
 "metadata": {
  "kernelspec": {
   "display_name": "Python 3.10.5 ('.venv': poetry)",
   "language": "python",
   "name": "python3"
  },
  "language_info": {
   "codemirror_mode": {
    "name": "ipython",
    "version": 3
   },
   "file_extension": ".py",
   "mimetype": "text/x-python",
   "name": "python",
   "nbconvert_exporter": "python",
   "pygments_lexer": "ipython3",
   "version": "3.10.5"
  },
  "orig_nbformat": 4,
  "vscode": {
   "interpreter": {
    "hash": "8027e8053fdf9292204012df4ebdabee530ab421fddaa40567c83374120858fc"
   }
  }
 },
 "nbformat": 4,
 "nbformat_minor": 2
}
