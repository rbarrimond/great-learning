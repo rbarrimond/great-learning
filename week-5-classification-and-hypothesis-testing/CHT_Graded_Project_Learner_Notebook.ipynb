{
  "cells": [
    {
      "cell_type": "markdown",
      "id": "dense-medicaid",
      "metadata": {
        "id": "dense-medicaid"
      },
      "source": [
        "# **Project - Classification and Hypothesis Testing: Hotel Booking Cancellation Prediction**\n",
        "\n",
        "## **Marks: 40**\n",
        "\n",
        "---------------\n",
        "## **Problem Statement**\n",
        "\n",
        "### **Context**\n",
        "\n",
        "**A significant number of hotel bookings are called off due to cancellations or no-shows.** Typical reasons for cancellations include change of plans, scheduling conflicts, etc. This is often made easier by the option to do so free of charge or preferably at a low cost. This may be beneficial to hotel guests, but it is a less desirable and possibly revenue-diminishing factor for hotels to deal with. Such losses are particularly high on last-minute cancellations.\n",
        "\n",
        "The new technologies involving online booking channels have dramatically changed customers’ booking possibilities and behavior. This adds a further dimension to the challenge of how hotels handle cancellations, which are no longer limited to traditional booking and guest characteristics.\n",
        "\n",
        "This pattern of cancellations of bookings impacts a hotel on various fronts:\n",
        "1. **Loss of resources (revenue)** when the hotel cannot resell the room.\n",
        "2. **Additional costs of distribution channels** by increasing commissions or paying for publicity to help sell these rooms.\n",
        "3. **Lowering prices last minute**, so the hotel can resell a room, resulting in reducing the profit margin.\n",
        "4. **Human resources to make arrangements** for the guests.\n",
        "\n",
        "### **Objective**\n",
        "\n",
        "This increasing number of cancellations calls for a Machine Learning based solution that can help in predicting which booking is likely to be canceled. INN Hotels Group has a chain of hotels in Portugal - they are facing problems with this high number of booking cancellations and have reached out to your firm for data-driven solutions. You, as a Data Scientist, have to analyze the data provided to find which factors have a high influence on booking cancellations, build a predictive model that can predict which booking is going to be canceled in advance, and help in formulating profitable policies for cancellations and refunds.\n",
        "\n",
        "\n",
        "### **Data Description**\n",
        "\n",
        "The data contains the different attributes of customers' booking details. The detailed data dictionary is given below:\n",
        "\n",
        "\n",
        "**Data Dictionary**\n",
        "\n",
        "* **Booking_ID:** Unique identifier of each booking\n",
        "* **no_of_adults:** Number of adults\n",
        "* **no_of_children:** Number of children\n",
        "* **no_of_weekend_nights:** Number of weekend nights (Saturday or Sunday) the guest stayed or booked to stay at the hotel\n",
        "* **no_of_week_nights:** Number of weekday nights (Monday to Friday) the guest stayed or booked to stay at the hotel\n",
        "* **type_of_meal_plan:** Type of meal plan booked by the customer:\n",
        "    * Not Selected – No meal plan selected\n",
        "    * Meal Plan 1 – Breakfast\n",
        "    * Meal Plan 2 – Half board (breakfast and one other meal)\n",
        "    * Meal Plan 3 – Full board (breakfast, lunch, and dinner)\n",
        "* **required_car_parking_space:** Does the customer require a car parking space? (0 - No, 1- Yes)\n",
        "* **room_type_reserved:** Type of room reserved by the customer. The values are ciphered (encoded) by INN Hotels.\n",
        "* **lead_time:** Number of days between the date of booking and the arrival date\n",
        "* **arrival_year:** Year of arrival date\n",
        "* **arrival_month:** Month of arrival date\n",
        "* **arrival_date:** Date of the month\n",
        "* **market_segment_type:** Market segment designation.\n",
        "* **repeated_guest:** Is the customer a repeated guest? (0 - No, 1- Yes)\n",
        "* **no_of_previous_cancellations:** Number of previous bookings that were canceled by the customer prior to the current booking\n",
        "* **no_of_previous_bookings_not_canceled:** Number of previous bookings not canceled by the customer prior to the current booking\n",
        "* **avg_price_per_room:** Average price per day of the reservation; prices of the rooms are dynamic. (in euros)\n",
        "* **no_of_special_requests:** Total number of special requests made by the customer (e.g. high floor, view from the room, etc)\n",
        "* **booking_status:** Flag indicating if the booking was canceled or not."
      ]
    },
    {
      "cell_type": "markdown",
      "id": "tqfNqaJCQeEE",
      "metadata": {
        "id": "tqfNqaJCQeEE"
      },
      "source": [
        "## **Importing the libraries required**"
      ]
    },
    {
      "cell_type": "code",
      "execution_count": 1,
      "id": "proper-calgary",
      "metadata": {
        "id": "proper-calgary"
      },
      "outputs": [],
      "source": [
        "# Importing the basic libraries we will require for the project\n",
        "\n",
        "# Libraries to help with reading and manipulating data\n",
        "import pandas as pd\n",
        "import numpy as np\n",
        "\n",
        "# Libaries to help with data visualization\n",
        "import matplotlib.pyplot as plt\n",
        "import seaborn as sns\n",
        "sns.set()\n",
        "\n",
        "# Importing the Machine Learning models we require from Scikit-Learn\n",
        "from sklearn.linear_model import LogisticRegression\n",
        "from sklearn.svm import SVC\n",
        "from sklearn.tree import DecisionTreeClassifier\n",
        "from sklearn import tree\n",
        "from sklearn.ensemble import RandomForestClassifier\n",
        "\n",
        "# Importing the other functions we may require from Scikit-Learn\n",
        "from sklearn.model_selection import train_test_split, GridSearchCV\n",
        "from sklearn.preprocessing import MinMaxScaler, LabelEncoder, OneHotEncoder\n",
        "\n",
        "# To get diferent metric scores\n",
        "from sklearn.metrics import confusion_matrix,classification_report,roc_auc_score,plot_confusion_matrix,precision_recall_curve,roc_curve,make_scorer\n",
        "\n",
        "# Code to ignore warnings from function usage\n",
        "import warnings;\n",
        "import numpy as np\n",
        "warnings.filterwarnings('ignore')"
      ]
    },
    {
      "cell_type": "markdown",
      "id": "fantastic-rebel",
      "metadata": {
        "id": "fantastic-rebel"
      },
      "source": [
        "## **Loading the dataset**"
      ]
    },
    {
      "cell_type": "code",
      "execution_count": 2,
      "id": "precious-leonard",
      "metadata": {
        "id": "precious-leonard"
      },
      "outputs": [],
      "source": [
        "hotel = pd.read_csv(\"INNHotelsGroup.csv\")"
      ]
    },
    {
      "cell_type": "code",
      "execution_count": 3,
      "id": "geographic-gender",
      "metadata": {
        "id": "geographic-gender"
      },
      "outputs": [],
      "source": [
        "# Copying data to another variable to avoid any changes to original data\n",
        "data = hotel.copy()"
      ]
    },
    {
      "cell_type": "markdown",
      "id": "fD7H-dajQqyQ",
      "metadata": {
        "id": "fD7H-dajQqyQ"
      },
      "source": [
        "## **Overview of the dataset**"
      ]
    },
    {
      "cell_type": "markdown",
      "id": "convinced-blackberry",
      "metadata": {
        "id": "convinced-blackberry"
      },
      "source": [
        "### **View the first and last 5 rows of the dataset**\n",
        "\n",
        "Let's **view the first few rows and last few rows** of the dataset in order to understand its structure a little better.\n",
        "\n",
        "We will use the head() and tail() methods from Pandas to do this."
      ]
    },
    {
      "cell_type": "code",
      "execution_count": 4,
      "id": "tested-adjustment",
      "metadata": {
        "id": "tested-adjustment"
      },
      "outputs": [
        {
          "data": {
            "text/html": [
              "<div>\n",
              "<style scoped>\n",
              "    .dataframe tbody tr th:only-of-type {\n",
              "        vertical-align: middle;\n",
              "    }\n",
              "\n",
              "    .dataframe tbody tr th {\n",
              "        vertical-align: top;\n",
              "    }\n",
              "\n",
              "    .dataframe thead th {\n",
              "        text-align: right;\n",
              "    }\n",
              "</style>\n",
              "<table border=\"1\" class=\"dataframe\">\n",
              "  <thead>\n",
              "    <tr style=\"text-align: right;\">\n",
              "      <th></th>\n",
              "      <th>Booking_ID</th>\n",
              "      <th>no_of_adults</th>\n",
              "      <th>no_of_children</th>\n",
              "      <th>no_of_weekend_nights</th>\n",
              "      <th>no_of_week_nights</th>\n",
              "      <th>type_of_meal_plan</th>\n",
              "      <th>required_car_parking_space</th>\n",
              "      <th>room_type_reserved</th>\n",
              "      <th>lead_time</th>\n",
              "      <th>arrival_year</th>\n",
              "      <th>arrival_month</th>\n",
              "      <th>arrival_date</th>\n",
              "      <th>market_segment_type</th>\n",
              "      <th>repeated_guest</th>\n",
              "      <th>no_of_previous_cancellations</th>\n",
              "      <th>no_of_previous_bookings_not_canceled</th>\n",
              "      <th>avg_price_per_room</th>\n",
              "      <th>no_of_special_requests</th>\n",
              "      <th>booking_status</th>\n",
              "    </tr>\n",
              "  </thead>\n",
              "  <tbody>\n",
              "    <tr>\n",
              "      <th>0</th>\n",
              "      <td>INN00001</td>\n",
              "      <td>2</td>\n",
              "      <td>0</td>\n",
              "      <td>1</td>\n",
              "      <td>2</td>\n",
              "      <td>Meal Plan 1</td>\n",
              "      <td>0</td>\n",
              "      <td>Room_Type 1</td>\n",
              "      <td>224</td>\n",
              "      <td>2017</td>\n",
              "      <td>10</td>\n",
              "      <td>2</td>\n",
              "      <td>Offline</td>\n",
              "      <td>0</td>\n",
              "      <td>0</td>\n",
              "      <td>0</td>\n",
              "      <td>65.00</td>\n",
              "      <td>0</td>\n",
              "      <td>Not_Canceled</td>\n",
              "    </tr>\n",
              "    <tr>\n",
              "      <th>1</th>\n",
              "      <td>INN00002</td>\n",
              "      <td>2</td>\n",
              "      <td>0</td>\n",
              "      <td>2</td>\n",
              "      <td>3</td>\n",
              "      <td>Not Selected</td>\n",
              "      <td>0</td>\n",
              "      <td>Room_Type 1</td>\n",
              "      <td>5</td>\n",
              "      <td>2018</td>\n",
              "      <td>11</td>\n",
              "      <td>6</td>\n",
              "      <td>Online</td>\n",
              "      <td>0</td>\n",
              "      <td>0</td>\n",
              "      <td>0</td>\n",
              "      <td>106.68</td>\n",
              "      <td>1</td>\n",
              "      <td>Not_Canceled</td>\n",
              "    </tr>\n",
              "    <tr>\n",
              "      <th>2</th>\n",
              "      <td>INN00003</td>\n",
              "      <td>1</td>\n",
              "      <td>0</td>\n",
              "      <td>2</td>\n",
              "      <td>1</td>\n",
              "      <td>Meal Plan 1</td>\n",
              "      <td>0</td>\n",
              "      <td>Room_Type 1</td>\n",
              "      <td>1</td>\n",
              "      <td>2018</td>\n",
              "      <td>2</td>\n",
              "      <td>28</td>\n",
              "      <td>Online</td>\n",
              "      <td>0</td>\n",
              "      <td>0</td>\n",
              "      <td>0</td>\n",
              "      <td>60.00</td>\n",
              "      <td>0</td>\n",
              "      <td>Canceled</td>\n",
              "    </tr>\n",
              "    <tr>\n",
              "      <th>3</th>\n",
              "      <td>INN00004</td>\n",
              "      <td>2</td>\n",
              "      <td>0</td>\n",
              "      <td>0</td>\n",
              "      <td>2</td>\n",
              "      <td>Meal Plan 1</td>\n",
              "      <td>0</td>\n",
              "      <td>Room_Type 1</td>\n",
              "      <td>211</td>\n",
              "      <td>2018</td>\n",
              "      <td>5</td>\n",
              "      <td>20</td>\n",
              "      <td>Online</td>\n",
              "      <td>0</td>\n",
              "      <td>0</td>\n",
              "      <td>0</td>\n",
              "      <td>100.00</td>\n",
              "      <td>0</td>\n",
              "      <td>Canceled</td>\n",
              "    </tr>\n",
              "    <tr>\n",
              "      <th>4</th>\n",
              "      <td>INN00005</td>\n",
              "      <td>2</td>\n",
              "      <td>0</td>\n",
              "      <td>1</td>\n",
              "      <td>1</td>\n",
              "      <td>Not Selected</td>\n",
              "      <td>0</td>\n",
              "      <td>Room_Type 1</td>\n",
              "      <td>48</td>\n",
              "      <td>2018</td>\n",
              "      <td>4</td>\n",
              "      <td>11</td>\n",
              "      <td>Online</td>\n",
              "      <td>0</td>\n",
              "      <td>0</td>\n",
              "      <td>0</td>\n",
              "      <td>94.50</td>\n",
              "      <td>0</td>\n",
              "      <td>Canceled</td>\n",
              "    </tr>\n",
              "  </tbody>\n",
              "</table>\n",
              "</div>"
            ],
            "text/plain": [
              "  Booking_ID  no_of_adults  no_of_children  no_of_weekend_nights  \\\n",
              "0   INN00001             2               0                     1   \n",
              "1   INN00002             2               0                     2   \n",
              "2   INN00003             1               0                     2   \n",
              "3   INN00004             2               0                     0   \n",
              "4   INN00005             2               0                     1   \n",
              "\n",
              "   no_of_week_nights type_of_meal_plan  required_car_parking_space  \\\n",
              "0                  2       Meal Plan 1                           0   \n",
              "1                  3      Not Selected                           0   \n",
              "2                  1       Meal Plan 1                           0   \n",
              "3                  2       Meal Plan 1                           0   \n",
              "4                  1      Not Selected                           0   \n",
              "\n",
              "  room_type_reserved  lead_time  arrival_year  arrival_month  arrival_date  \\\n",
              "0        Room_Type 1        224          2017             10             2   \n",
              "1        Room_Type 1          5          2018             11             6   \n",
              "2        Room_Type 1          1          2018              2            28   \n",
              "3        Room_Type 1        211          2018              5            20   \n",
              "4        Room_Type 1         48          2018              4            11   \n",
              "\n",
              "  market_segment_type  repeated_guest  no_of_previous_cancellations  \\\n",
              "0             Offline               0                             0   \n",
              "1              Online               0                             0   \n",
              "2              Online               0                             0   \n",
              "3              Online               0                             0   \n",
              "4              Online               0                             0   \n",
              "\n",
              "   no_of_previous_bookings_not_canceled  avg_price_per_room  \\\n",
              "0                                     0               65.00   \n",
              "1                                     0              106.68   \n",
              "2                                     0               60.00   \n",
              "3                                     0              100.00   \n",
              "4                                     0               94.50   \n",
              "\n",
              "   no_of_special_requests booking_status  \n",
              "0                       0   Not_Canceled  \n",
              "1                       1   Not_Canceled  \n",
              "2                       0       Canceled  \n",
              "3                       0       Canceled  \n",
              "4                       0       Canceled  "
            ]
          },
          "execution_count": 4,
          "metadata": {},
          "output_type": "execute_result"
        }
      ],
      "source": [
        "data.head()"
      ]
    },
    {
      "cell_type": "code",
      "execution_count": 5,
      "id": "demonstrated-charger",
      "metadata": {
        "id": "demonstrated-charger"
      },
      "outputs": [
        {
          "data": {
            "text/html": [
              "<div>\n",
              "<style scoped>\n",
              "    .dataframe tbody tr th:only-of-type {\n",
              "        vertical-align: middle;\n",
              "    }\n",
              "\n",
              "    .dataframe tbody tr th {\n",
              "        vertical-align: top;\n",
              "    }\n",
              "\n",
              "    .dataframe thead th {\n",
              "        text-align: right;\n",
              "    }\n",
              "</style>\n",
              "<table border=\"1\" class=\"dataframe\">\n",
              "  <thead>\n",
              "    <tr style=\"text-align: right;\">\n",
              "      <th></th>\n",
              "      <th>Booking_ID</th>\n",
              "      <th>no_of_adults</th>\n",
              "      <th>no_of_children</th>\n",
              "      <th>no_of_weekend_nights</th>\n",
              "      <th>no_of_week_nights</th>\n",
              "      <th>type_of_meal_plan</th>\n",
              "      <th>required_car_parking_space</th>\n",
              "      <th>room_type_reserved</th>\n",
              "      <th>lead_time</th>\n",
              "      <th>arrival_year</th>\n",
              "      <th>arrival_month</th>\n",
              "      <th>arrival_date</th>\n",
              "      <th>market_segment_type</th>\n",
              "      <th>repeated_guest</th>\n",
              "      <th>no_of_previous_cancellations</th>\n",
              "      <th>no_of_previous_bookings_not_canceled</th>\n",
              "      <th>avg_price_per_room</th>\n",
              "      <th>no_of_special_requests</th>\n",
              "      <th>booking_status</th>\n",
              "    </tr>\n",
              "  </thead>\n",
              "  <tbody>\n",
              "    <tr>\n",
              "      <th>36270</th>\n",
              "      <td>INN36271</td>\n",
              "      <td>3</td>\n",
              "      <td>0</td>\n",
              "      <td>2</td>\n",
              "      <td>6</td>\n",
              "      <td>Meal Plan 1</td>\n",
              "      <td>0</td>\n",
              "      <td>Room_Type 4</td>\n",
              "      <td>85</td>\n",
              "      <td>2018</td>\n",
              "      <td>8</td>\n",
              "      <td>3</td>\n",
              "      <td>Online</td>\n",
              "      <td>0</td>\n",
              "      <td>0</td>\n",
              "      <td>0</td>\n",
              "      <td>167.80</td>\n",
              "      <td>1</td>\n",
              "      <td>Not_Canceled</td>\n",
              "    </tr>\n",
              "    <tr>\n",
              "      <th>36271</th>\n",
              "      <td>INN36272</td>\n",
              "      <td>2</td>\n",
              "      <td>0</td>\n",
              "      <td>1</td>\n",
              "      <td>3</td>\n",
              "      <td>Meal Plan 1</td>\n",
              "      <td>0</td>\n",
              "      <td>Room_Type 1</td>\n",
              "      <td>228</td>\n",
              "      <td>2018</td>\n",
              "      <td>10</td>\n",
              "      <td>17</td>\n",
              "      <td>Online</td>\n",
              "      <td>0</td>\n",
              "      <td>0</td>\n",
              "      <td>0</td>\n",
              "      <td>90.95</td>\n",
              "      <td>2</td>\n",
              "      <td>Canceled</td>\n",
              "    </tr>\n",
              "    <tr>\n",
              "      <th>36272</th>\n",
              "      <td>INN36273</td>\n",
              "      <td>2</td>\n",
              "      <td>0</td>\n",
              "      <td>2</td>\n",
              "      <td>6</td>\n",
              "      <td>Meal Plan 1</td>\n",
              "      <td>0</td>\n",
              "      <td>Room_Type 1</td>\n",
              "      <td>148</td>\n",
              "      <td>2018</td>\n",
              "      <td>7</td>\n",
              "      <td>1</td>\n",
              "      <td>Online</td>\n",
              "      <td>0</td>\n",
              "      <td>0</td>\n",
              "      <td>0</td>\n",
              "      <td>98.39</td>\n",
              "      <td>2</td>\n",
              "      <td>Not_Canceled</td>\n",
              "    </tr>\n",
              "    <tr>\n",
              "      <th>36273</th>\n",
              "      <td>INN36274</td>\n",
              "      <td>2</td>\n",
              "      <td>0</td>\n",
              "      <td>0</td>\n",
              "      <td>3</td>\n",
              "      <td>Not Selected</td>\n",
              "      <td>0</td>\n",
              "      <td>Room_Type 1</td>\n",
              "      <td>63</td>\n",
              "      <td>2018</td>\n",
              "      <td>4</td>\n",
              "      <td>21</td>\n",
              "      <td>Online</td>\n",
              "      <td>0</td>\n",
              "      <td>0</td>\n",
              "      <td>0</td>\n",
              "      <td>94.50</td>\n",
              "      <td>0</td>\n",
              "      <td>Canceled</td>\n",
              "    </tr>\n",
              "    <tr>\n",
              "      <th>36274</th>\n",
              "      <td>INN36275</td>\n",
              "      <td>2</td>\n",
              "      <td>0</td>\n",
              "      <td>1</td>\n",
              "      <td>2</td>\n",
              "      <td>Meal Plan 1</td>\n",
              "      <td>0</td>\n",
              "      <td>Room_Type 1</td>\n",
              "      <td>207</td>\n",
              "      <td>2018</td>\n",
              "      <td>12</td>\n",
              "      <td>30</td>\n",
              "      <td>Offline</td>\n",
              "      <td>0</td>\n",
              "      <td>0</td>\n",
              "      <td>0</td>\n",
              "      <td>161.67</td>\n",
              "      <td>0</td>\n",
              "      <td>Not_Canceled</td>\n",
              "    </tr>\n",
              "  </tbody>\n",
              "</table>\n",
              "</div>"
            ],
            "text/plain": [
              "      Booking_ID  no_of_adults  no_of_children  no_of_weekend_nights  \\\n",
              "36270   INN36271             3               0                     2   \n",
              "36271   INN36272             2               0                     1   \n",
              "36272   INN36273             2               0                     2   \n",
              "36273   INN36274             2               0                     0   \n",
              "36274   INN36275             2               0                     1   \n",
              "\n",
              "       no_of_week_nights type_of_meal_plan  required_car_parking_space  \\\n",
              "36270                  6       Meal Plan 1                           0   \n",
              "36271                  3       Meal Plan 1                           0   \n",
              "36272                  6       Meal Plan 1                           0   \n",
              "36273                  3      Not Selected                           0   \n",
              "36274                  2       Meal Plan 1                           0   \n",
              "\n",
              "      room_type_reserved  lead_time  arrival_year  arrival_month  \\\n",
              "36270        Room_Type 4         85          2018              8   \n",
              "36271        Room_Type 1        228          2018             10   \n",
              "36272        Room_Type 1        148          2018              7   \n",
              "36273        Room_Type 1         63          2018              4   \n",
              "36274        Room_Type 1        207          2018             12   \n",
              "\n",
              "       arrival_date market_segment_type  repeated_guest  \\\n",
              "36270             3              Online               0   \n",
              "36271            17              Online               0   \n",
              "36272             1              Online               0   \n",
              "36273            21              Online               0   \n",
              "36274            30             Offline               0   \n",
              "\n",
              "       no_of_previous_cancellations  no_of_previous_bookings_not_canceled  \\\n",
              "36270                             0                                     0   \n",
              "36271                             0                                     0   \n",
              "36272                             0                                     0   \n",
              "36273                             0                                     0   \n",
              "36274                             0                                     0   \n",
              "\n",
              "       avg_price_per_room  no_of_special_requests booking_status  \n",
              "36270              167.80                       1   Not_Canceled  \n",
              "36271               90.95                       2       Canceled  \n",
              "36272               98.39                       2   Not_Canceled  \n",
              "36273               94.50                       0       Canceled  \n",
              "36274              161.67                       0   Not_Canceled  "
            ]
          },
          "execution_count": 5,
          "metadata": {},
          "output_type": "execute_result"
        }
      ],
      "source": [
        "data.tail()"
      ]
    },
    {
      "cell_type": "markdown",
      "id": "prepared-clause",
      "metadata": {
        "id": "prepared-clause"
      },
      "source": [
        "### **Understand the shape of the dataset**"
      ]
    },
    {
      "cell_type": "code",
      "execution_count": 6,
      "id": "likely-scene",
      "metadata": {
        "id": "likely-scene"
      },
      "outputs": [
        {
          "data": {
            "text/plain": [
              "(36275, 19)"
            ]
          },
          "execution_count": 6,
          "metadata": {},
          "output_type": "execute_result"
        }
      ],
      "source": [
        "data.shape"
      ]
    },
    {
      "cell_type": "markdown",
      "id": "sacred-language",
      "metadata": {
        "id": "sacred-language"
      },
      "source": [
        "* The dataset has 36275 rows and 19 columns. "
      ]
    },
    {
      "cell_type": "markdown",
      "id": "creative-warner",
      "metadata": {
        "id": "creative-warner"
      },
      "source": [
        "### **Check the data types of the columns for the dataset**"
      ]
    },
    {
      "cell_type": "code",
      "execution_count": 7,
      "id": "expanded-technique",
      "metadata": {
        "id": "expanded-technique"
      },
      "outputs": [
        {
          "name": "stdout",
          "output_type": "stream",
          "text": [
            "<class 'pandas.core.frame.DataFrame'>\n",
            "RangeIndex: 36275 entries, 0 to 36274\n",
            "Data columns (total 19 columns):\n",
            " #   Column                                Non-Null Count  Dtype  \n",
            "---  ------                                --------------  -----  \n",
            " 0   Booking_ID                            36275 non-null  object \n",
            " 1   no_of_adults                          36275 non-null  int64  \n",
            " 2   no_of_children                        36275 non-null  int64  \n",
            " 3   no_of_weekend_nights                  36275 non-null  int64  \n",
            " 4   no_of_week_nights                     36275 non-null  int64  \n",
            " 5   type_of_meal_plan                     36275 non-null  object \n",
            " 6   required_car_parking_space            36275 non-null  int64  \n",
            " 7   room_type_reserved                    36275 non-null  object \n",
            " 8   lead_time                             36275 non-null  int64  \n",
            " 9   arrival_year                          36275 non-null  int64  \n",
            " 10  arrival_month                         36275 non-null  int64  \n",
            " 11  arrival_date                          36275 non-null  int64  \n",
            " 12  market_segment_type                   36275 non-null  object \n",
            " 13  repeated_guest                        36275 non-null  int64  \n",
            " 14  no_of_previous_cancellations          36275 non-null  int64  \n",
            " 15  no_of_previous_bookings_not_canceled  36275 non-null  int64  \n",
            " 16  avg_price_per_room                    36275 non-null  float64\n",
            " 17  no_of_special_requests                36275 non-null  int64  \n",
            " 18  booking_status                        36275 non-null  object \n",
            "dtypes: float64(1), int64(13), object(5)\n",
            "memory usage: 5.3+ MB\n"
          ]
        }
      ],
      "source": [
        "data.info()"
      ]
    },
    {
      "cell_type": "markdown",
      "id": "august-hopkins",
      "metadata": {
        "id": "august-hopkins"
      },
      "source": [
        "* `Booking_ID`, `type_of_meal_plan`, `room_type_reserved`, `market_segment_type`, and `booking_status` are of object type while rest columns are numeric in nature.\n",
        "\n",
        "* There are no null values in the dataset."
      ]
    },
    {
      "cell_type": "markdown",
      "id": "JrjZHnfFQ4fh",
      "metadata": {
        "id": "JrjZHnfFQ4fh"
      },
      "source": [
        "### **Dropping duplicate values**"
      ]
    },
    {
      "cell_type": "code",
      "execution_count": 8,
      "id": "greenhouse-vertical",
      "metadata": {
        "id": "greenhouse-vertical"
      },
      "outputs": [
        {
          "data": {
            "text/plain": [
              "0"
            ]
          },
          "execution_count": 8,
          "metadata": {},
          "output_type": "execute_result"
        }
      ],
      "source": [
        "# checking for duplicate values\n",
        "data.duplicated().sum()"
      ]
    },
    {
      "cell_type": "markdown",
      "id": "adjustable-programmer",
      "metadata": {
        "id": "adjustable-programmer"
      },
      "source": [
        "- There are **no duplicate values** in the data."
      ]
    },
    {
      "cell_type": "markdown",
      "id": "1-CD9xCkQ-bu",
      "metadata": {
        "id": "1-CD9xCkQ-bu"
      },
      "source": [
        "### **Dropping the unique values column**"
      ]
    },
    {
      "cell_type": "markdown",
      "id": "928c50b6",
      "metadata": {
        "id": "928c50b6"
      },
      "source": [
        "**Let's drop the Booking_ID column first before we proceed forward**, as a column with unique values will have almost no predictive power for the Machine Learning problem at hand."
      ]
    },
    {
      "cell_type": "code",
      "execution_count": 9,
      "id": "referenced-architect",
      "metadata": {
        "id": "referenced-architect"
      },
      "outputs": [],
      "source": [
        "data = data.drop([\"Booking_ID\"], axis=1)"
      ]
    },
    {
      "cell_type": "code",
      "execution_count": 10,
      "id": "40b248aa",
      "metadata": {
        "id": "40b248aa"
      },
      "outputs": [
        {
          "data": {
            "text/html": [
              "<div>\n",
              "<style scoped>\n",
              "    .dataframe tbody tr th:only-of-type {\n",
              "        vertical-align: middle;\n",
              "    }\n",
              "\n",
              "    .dataframe tbody tr th {\n",
              "        vertical-align: top;\n",
              "    }\n",
              "\n",
              "    .dataframe thead th {\n",
              "        text-align: right;\n",
              "    }\n",
              "</style>\n",
              "<table border=\"1\" class=\"dataframe\">\n",
              "  <thead>\n",
              "    <tr style=\"text-align: right;\">\n",
              "      <th></th>\n",
              "      <th>no_of_adults</th>\n",
              "      <th>no_of_children</th>\n",
              "      <th>no_of_weekend_nights</th>\n",
              "      <th>no_of_week_nights</th>\n",
              "      <th>type_of_meal_plan</th>\n",
              "      <th>required_car_parking_space</th>\n",
              "      <th>room_type_reserved</th>\n",
              "      <th>lead_time</th>\n",
              "      <th>arrival_year</th>\n",
              "      <th>arrival_month</th>\n",
              "      <th>arrival_date</th>\n",
              "      <th>market_segment_type</th>\n",
              "      <th>repeated_guest</th>\n",
              "      <th>no_of_previous_cancellations</th>\n",
              "      <th>no_of_previous_bookings_not_canceled</th>\n",
              "      <th>avg_price_per_room</th>\n",
              "      <th>no_of_special_requests</th>\n",
              "      <th>booking_status</th>\n",
              "    </tr>\n",
              "  </thead>\n",
              "  <tbody>\n",
              "    <tr>\n",
              "      <th>0</th>\n",
              "      <td>2</td>\n",
              "      <td>0</td>\n",
              "      <td>1</td>\n",
              "      <td>2</td>\n",
              "      <td>Meal Plan 1</td>\n",
              "      <td>0</td>\n",
              "      <td>Room_Type 1</td>\n",
              "      <td>224</td>\n",
              "      <td>2017</td>\n",
              "      <td>10</td>\n",
              "      <td>2</td>\n",
              "      <td>Offline</td>\n",
              "      <td>0</td>\n",
              "      <td>0</td>\n",
              "      <td>0</td>\n",
              "      <td>65.00</td>\n",
              "      <td>0</td>\n",
              "      <td>Not_Canceled</td>\n",
              "    </tr>\n",
              "    <tr>\n",
              "      <th>1</th>\n",
              "      <td>2</td>\n",
              "      <td>0</td>\n",
              "      <td>2</td>\n",
              "      <td>3</td>\n",
              "      <td>Not Selected</td>\n",
              "      <td>0</td>\n",
              "      <td>Room_Type 1</td>\n",
              "      <td>5</td>\n",
              "      <td>2018</td>\n",
              "      <td>11</td>\n",
              "      <td>6</td>\n",
              "      <td>Online</td>\n",
              "      <td>0</td>\n",
              "      <td>0</td>\n",
              "      <td>0</td>\n",
              "      <td>106.68</td>\n",
              "      <td>1</td>\n",
              "      <td>Not_Canceled</td>\n",
              "    </tr>\n",
              "    <tr>\n",
              "      <th>2</th>\n",
              "      <td>1</td>\n",
              "      <td>0</td>\n",
              "      <td>2</td>\n",
              "      <td>1</td>\n",
              "      <td>Meal Plan 1</td>\n",
              "      <td>0</td>\n",
              "      <td>Room_Type 1</td>\n",
              "      <td>1</td>\n",
              "      <td>2018</td>\n",
              "      <td>2</td>\n",
              "      <td>28</td>\n",
              "      <td>Online</td>\n",
              "      <td>0</td>\n",
              "      <td>0</td>\n",
              "      <td>0</td>\n",
              "      <td>60.00</td>\n",
              "      <td>0</td>\n",
              "      <td>Canceled</td>\n",
              "    </tr>\n",
              "    <tr>\n",
              "      <th>3</th>\n",
              "      <td>2</td>\n",
              "      <td>0</td>\n",
              "      <td>0</td>\n",
              "      <td>2</td>\n",
              "      <td>Meal Plan 1</td>\n",
              "      <td>0</td>\n",
              "      <td>Room_Type 1</td>\n",
              "      <td>211</td>\n",
              "      <td>2018</td>\n",
              "      <td>5</td>\n",
              "      <td>20</td>\n",
              "      <td>Online</td>\n",
              "      <td>0</td>\n",
              "      <td>0</td>\n",
              "      <td>0</td>\n",
              "      <td>100.00</td>\n",
              "      <td>0</td>\n",
              "      <td>Canceled</td>\n",
              "    </tr>\n",
              "    <tr>\n",
              "      <th>4</th>\n",
              "      <td>2</td>\n",
              "      <td>0</td>\n",
              "      <td>1</td>\n",
              "      <td>1</td>\n",
              "      <td>Not Selected</td>\n",
              "      <td>0</td>\n",
              "      <td>Room_Type 1</td>\n",
              "      <td>48</td>\n",
              "      <td>2018</td>\n",
              "      <td>4</td>\n",
              "      <td>11</td>\n",
              "      <td>Online</td>\n",
              "      <td>0</td>\n",
              "      <td>0</td>\n",
              "      <td>0</td>\n",
              "      <td>94.50</td>\n",
              "      <td>0</td>\n",
              "      <td>Canceled</td>\n",
              "    </tr>\n",
              "  </tbody>\n",
              "</table>\n",
              "</div>"
            ],
            "text/plain": [
              "   no_of_adults  no_of_children  no_of_weekend_nights  no_of_week_nights  \\\n",
              "0             2               0                     1                  2   \n",
              "1             2               0                     2                  3   \n",
              "2             1               0                     2                  1   \n",
              "3             2               0                     0                  2   \n",
              "4             2               0                     1                  1   \n",
              "\n",
              "  type_of_meal_plan  required_car_parking_space room_type_reserved  lead_time  \\\n",
              "0       Meal Plan 1                           0        Room_Type 1        224   \n",
              "1      Not Selected                           0        Room_Type 1          5   \n",
              "2       Meal Plan 1                           0        Room_Type 1          1   \n",
              "3       Meal Plan 1                           0        Room_Type 1        211   \n",
              "4      Not Selected                           0        Room_Type 1         48   \n",
              "\n",
              "   arrival_year  arrival_month  arrival_date market_segment_type  \\\n",
              "0          2017             10             2             Offline   \n",
              "1          2018             11             6              Online   \n",
              "2          2018              2            28              Online   \n",
              "3          2018              5            20              Online   \n",
              "4          2018              4            11              Online   \n",
              "\n",
              "   repeated_guest  no_of_previous_cancellations  \\\n",
              "0               0                             0   \n",
              "1               0                             0   \n",
              "2               0                             0   \n",
              "3               0                             0   \n",
              "4               0                             0   \n",
              "\n",
              "   no_of_previous_bookings_not_canceled  avg_price_per_room  \\\n",
              "0                                     0               65.00   \n",
              "1                                     0              106.68   \n",
              "2                                     0               60.00   \n",
              "3                                     0              100.00   \n",
              "4                                     0               94.50   \n",
              "\n",
              "   no_of_special_requests booking_status  \n",
              "0                       0   Not_Canceled  \n",
              "1                       1   Not_Canceled  \n",
              "2                       0       Canceled  \n",
              "3                       0       Canceled  \n",
              "4                       0       Canceled  "
            ]
          },
          "execution_count": 10,
          "metadata": {},
          "output_type": "execute_result"
        }
      ],
      "source": [
        "data.head()"
      ]
    },
    {
      "cell_type": "markdown",
      "id": "PT4JpT2NRKBB",
      "metadata": {
        "id": "PT4JpT2NRKBB"
      },
      "source": [
        "### **Question 1: Check the summary statistics of the dataset and write your observations (2 Marks)**\n",
        "\n"
      ]
    },
    {
      "cell_type": "markdown",
      "id": "seeing-newman",
      "metadata": {
        "id": "seeing-newman"
      },
      "source": [
        "**Let's check the statistical summary of the data.**"
      ]
    },
    {
      "cell_type": "code",
      "execution_count": 11,
      "id": "backed-solution",
      "metadata": {
        "id": "backed-solution"
      },
      "outputs": [
        {
          "data": {
            "text/html": [
              "<div>\n",
              "<style scoped>\n",
              "    .dataframe tbody tr th:only-of-type {\n",
              "        vertical-align: middle;\n",
              "    }\n",
              "\n",
              "    .dataframe tbody tr th {\n",
              "        vertical-align: top;\n",
              "    }\n",
              "\n",
              "    .dataframe thead th {\n",
              "        text-align: right;\n",
              "    }\n",
              "</style>\n",
              "<table border=\"1\" class=\"dataframe\">\n",
              "  <thead>\n",
              "    <tr style=\"text-align: right;\">\n",
              "      <th></th>\n",
              "      <th>count</th>\n",
              "      <th>unique</th>\n",
              "      <th>top</th>\n",
              "      <th>freq</th>\n",
              "      <th>mean</th>\n",
              "      <th>std</th>\n",
              "      <th>min</th>\n",
              "      <th>25%</th>\n",
              "      <th>50%</th>\n",
              "      <th>75%</th>\n",
              "      <th>max</th>\n",
              "    </tr>\n",
              "  </thead>\n",
              "  <tbody>\n",
              "    <tr>\n",
              "      <th>no_of_adults</th>\n",
              "      <td>36275.0</td>\n",
              "      <td>NaN</td>\n",
              "      <td>NaN</td>\n",
              "      <td>NaN</td>\n",
              "      <td>1.844962</td>\n",
              "      <td>0.518715</td>\n",
              "      <td>0.0</td>\n",
              "      <td>2.0</td>\n",
              "      <td>2.0</td>\n",
              "      <td>2.0</td>\n",
              "      <td>4.0</td>\n",
              "    </tr>\n",
              "    <tr>\n",
              "      <th>no_of_children</th>\n",
              "      <td>36275.0</td>\n",
              "      <td>NaN</td>\n",
              "      <td>NaN</td>\n",
              "      <td>NaN</td>\n",
              "      <td>0.105279</td>\n",
              "      <td>0.402648</td>\n",
              "      <td>0.0</td>\n",
              "      <td>0.0</td>\n",
              "      <td>0.0</td>\n",
              "      <td>0.0</td>\n",
              "      <td>10.0</td>\n",
              "    </tr>\n",
              "    <tr>\n",
              "      <th>no_of_weekend_nights</th>\n",
              "      <td>36275.0</td>\n",
              "      <td>NaN</td>\n",
              "      <td>NaN</td>\n",
              "      <td>NaN</td>\n",
              "      <td>0.810724</td>\n",
              "      <td>0.870644</td>\n",
              "      <td>0.0</td>\n",
              "      <td>0.0</td>\n",
              "      <td>1.0</td>\n",
              "      <td>2.0</td>\n",
              "      <td>7.0</td>\n",
              "    </tr>\n",
              "    <tr>\n",
              "      <th>no_of_week_nights</th>\n",
              "      <td>36275.0</td>\n",
              "      <td>NaN</td>\n",
              "      <td>NaN</td>\n",
              "      <td>NaN</td>\n",
              "      <td>2.2043</td>\n",
              "      <td>1.410905</td>\n",
              "      <td>0.0</td>\n",
              "      <td>1.0</td>\n",
              "      <td>2.0</td>\n",
              "      <td>3.0</td>\n",
              "      <td>17.0</td>\n",
              "    </tr>\n",
              "    <tr>\n",
              "      <th>type_of_meal_plan</th>\n",
              "      <td>36275</td>\n",
              "      <td>4</td>\n",
              "      <td>Meal Plan 1</td>\n",
              "      <td>27835</td>\n",
              "      <td>NaN</td>\n",
              "      <td>NaN</td>\n",
              "      <td>NaN</td>\n",
              "      <td>NaN</td>\n",
              "      <td>NaN</td>\n",
              "      <td>NaN</td>\n",
              "      <td>NaN</td>\n",
              "    </tr>\n",
              "    <tr>\n",
              "      <th>required_car_parking_space</th>\n",
              "      <td>36275.0</td>\n",
              "      <td>NaN</td>\n",
              "      <td>NaN</td>\n",
              "      <td>NaN</td>\n",
              "      <td>0.030986</td>\n",
              "      <td>0.173281</td>\n",
              "      <td>0.0</td>\n",
              "      <td>0.0</td>\n",
              "      <td>0.0</td>\n",
              "      <td>0.0</td>\n",
              "      <td>1.0</td>\n",
              "    </tr>\n",
              "    <tr>\n",
              "      <th>room_type_reserved</th>\n",
              "      <td>36275</td>\n",
              "      <td>7</td>\n",
              "      <td>Room_Type 1</td>\n",
              "      <td>28130</td>\n",
              "      <td>NaN</td>\n",
              "      <td>NaN</td>\n",
              "      <td>NaN</td>\n",
              "      <td>NaN</td>\n",
              "      <td>NaN</td>\n",
              "      <td>NaN</td>\n",
              "      <td>NaN</td>\n",
              "    </tr>\n",
              "    <tr>\n",
              "      <th>lead_time</th>\n",
              "      <td>36275.0</td>\n",
              "      <td>NaN</td>\n",
              "      <td>NaN</td>\n",
              "      <td>NaN</td>\n",
              "      <td>85.232557</td>\n",
              "      <td>85.930817</td>\n",
              "      <td>0.0</td>\n",
              "      <td>17.0</td>\n",
              "      <td>57.0</td>\n",
              "      <td>126.0</td>\n",
              "      <td>443.0</td>\n",
              "    </tr>\n",
              "    <tr>\n",
              "      <th>arrival_year</th>\n",
              "      <td>36275.0</td>\n",
              "      <td>NaN</td>\n",
              "      <td>NaN</td>\n",
              "      <td>NaN</td>\n",
              "      <td>2017.820427</td>\n",
              "      <td>0.383836</td>\n",
              "      <td>2017.0</td>\n",
              "      <td>2018.0</td>\n",
              "      <td>2018.0</td>\n",
              "      <td>2018.0</td>\n",
              "      <td>2018.0</td>\n",
              "    </tr>\n",
              "    <tr>\n",
              "      <th>arrival_month</th>\n",
              "      <td>36275.0</td>\n",
              "      <td>NaN</td>\n",
              "      <td>NaN</td>\n",
              "      <td>NaN</td>\n",
              "      <td>7.423653</td>\n",
              "      <td>3.069894</td>\n",
              "      <td>1.0</td>\n",
              "      <td>5.0</td>\n",
              "      <td>8.0</td>\n",
              "      <td>10.0</td>\n",
              "      <td>12.0</td>\n",
              "    </tr>\n",
              "    <tr>\n",
              "      <th>arrival_date</th>\n",
              "      <td>36275.0</td>\n",
              "      <td>NaN</td>\n",
              "      <td>NaN</td>\n",
              "      <td>NaN</td>\n",
              "      <td>15.596995</td>\n",
              "      <td>8.740447</td>\n",
              "      <td>1.0</td>\n",
              "      <td>8.0</td>\n",
              "      <td>16.0</td>\n",
              "      <td>23.0</td>\n",
              "      <td>31.0</td>\n",
              "    </tr>\n",
              "    <tr>\n",
              "      <th>market_segment_type</th>\n",
              "      <td>36275</td>\n",
              "      <td>5</td>\n",
              "      <td>Online</td>\n",
              "      <td>23214</td>\n",
              "      <td>NaN</td>\n",
              "      <td>NaN</td>\n",
              "      <td>NaN</td>\n",
              "      <td>NaN</td>\n",
              "      <td>NaN</td>\n",
              "      <td>NaN</td>\n",
              "      <td>NaN</td>\n",
              "    </tr>\n",
              "    <tr>\n",
              "      <th>repeated_guest</th>\n",
              "      <td>36275.0</td>\n",
              "      <td>NaN</td>\n",
              "      <td>NaN</td>\n",
              "      <td>NaN</td>\n",
              "      <td>0.025637</td>\n",
              "      <td>0.158053</td>\n",
              "      <td>0.0</td>\n",
              "      <td>0.0</td>\n",
              "      <td>0.0</td>\n",
              "      <td>0.0</td>\n",
              "      <td>1.0</td>\n",
              "    </tr>\n",
              "    <tr>\n",
              "      <th>no_of_previous_cancellations</th>\n",
              "      <td>36275.0</td>\n",
              "      <td>NaN</td>\n",
              "      <td>NaN</td>\n",
              "      <td>NaN</td>\n",
              "      <td>0.023349</td>\n",
              "      <td>0.368331</td>\n",
              "      <td>0.0</td>\n",
              "      <td>0.0</td>\n",
              "      <td>0.0</td>\n",
              "      <td>0.0</td>\n",
              "      <td>13.0</td>\n",
              "    </tr>\n",
              "    <tr>\n",
              "      <th>no_of_previous_bookings_not_canceled</th>\n",
              "      <td>36275.0</td>\n",
              "      <td>NaN</td>\n",
              "      <td>NaN</td>\n",
              "      <td>NaN</td>\n",
              "      <td>0.153411</td>\n",
              "      <td>1.754171</td>\n",
              "      <td>0.0</td>\n",
              "      <td>0.0</td>\n",
              "      <td>0.0</td>\n",
              "      <td>0.0</td>\n",
              "      <td>58.0</td>\n",
              "    </tr>\n",
              "    <tr>\n",
              "      <th>avg_price_per_room</th>\n",
              "      <td>36275.0</td>\n",
              "      <td>NaN</td>\n",
              "      <td>NaN</td>\n",
              "      <td>NaN</td>\n",
              "      <td>103.423539</td>\n",
              "      <td>35.089424</td>\n",
              "      <td>0.0</td>\n",
              "      <td>80.3</td>\n",
              "      <td>99.45</td>\n",
              "      <td>120.0</td>\n",
              "      <td>540.0</td>\n",
              "    </tr>\n",
              "    <tr>\n",
              "      <th>no_of_special_requests</th>\n",
              "      <td>36275.0</td>\n",
              "      <td>NaN</td>\n",
              "      <td>NaN</td>\n",
              "      <td>NaN</td>\n",
              "      <td>0.619655</td>\n",
              "      <td>0.786236</td>\n",
              "      <td>0.0</td>\n",
              "      <td>0.0</td>\n",
              "      <td>0.0</td>\n",
              "      <td>1.0</td>\n",
              "      <td>5.0</td>\n",
              "    </tr>\n",
              "    <tr>\n",
              "      <th>booking_status</th>\n",
              "      <td>36275</td>\n",
              "      <td>2</td>\n",
              "      <td>Not_Canceled</td>\n",
              "      <td>24390</td>\n",
              "      <td>NaN</td>\n",
              "      <td>NaN</td>\n",
              "      <td>NaN</td>\n",
              "      <td>NaN</td>\n",
              "      <td>NaN</td>\n",
              "      <td>NaN</td>\n",
              "      <td>NaN</td>\n",
              "    </tr>\n",
              "  </tbody>\n",
              "</table>\n",
              "</div>"
            ],
            "text/plain": [
              "                                        count unique           top   freq  \\\n",
              "no_of_adults                          36275.0    NaN           NaN    NaN   \n",
              "no_of_children                        36275.0    NaN           NaN    NaN   \n",
              "no_of_weekend_nights                  36275.0    NaN           NaN    NaN   \n",
              "no_of_week_nights                     36275.0    NaN           NaN    NaN   \n",
              "type_of_meal_plan                       36275      4   Meal Plan 1  27835   \n",
              "required_car_parking_space            36275.0    NaN           NaN    NaN   \n",
              "room_type_reserved                      36275      7   Room_Type 1  28130   \n",
              "lead_time                             36275.0    NaN           NaN    NaN   \n",
              "arrival_year                          36275.0    NaN           NaN    NaN   \n",
              "arrival_month                         36275.0    NaN           NaN    NaN   \n",
              "arrival_date                          36275.0    NaN           NaN    NaN   \n",
              "market_segment_type                     36275      5        Online  23214   \n",
              "repeated_guest                        36275.0    NaN           NaN    NaN   \n",
              "no_of_previous_cancellations          36275.0    NaN           NaN    NaN   \n",
              "no_of_previous_bookings_not_canceled  36275.0    NaN           NaN    NaN   \n",
              "avg_price_per_room                    36275.0    NaN           NaN    NaN   \n",
              "no_of_special_requests                36275.0    NaN           NaN    NaN   \n",
              "booking_status                          36275      2  Not_Canceled  24390   \n",
              "\n",
              "                                             mean        std     min     25%  \\\n",
              "no_of_adults                             1.844962   0.518715     0.0     2.0   \n",
              "no_of_children                           0.105279   0.402648     0.0     0.0   \n",
              "no_of_weekend_nights                     0.810724   0.870644     0.0     0.0   \n",
              "no_of_week_nights                          2.2043   1.410905     0.0     1.0   \n",
              "type_of_meal_plan                             NaN        NaN     NaN     NaN   \n",
              "required_car_parking_space               0.030986   0.173281     0.0     0.0   \n",
              "room_type_reserved                            NaN        NaN     NaN     NaN   \n",
              "lead_time                               85.232557  85.930817     0.0    17.0   \n",
              "arrival_year                          2017.820427   0.383836  2017.0  2018.0   \n",
              "arrival_month                            7.423653   3.069894     1.0     5.0   \n",
              "arrival_date                            15.596995   8.740447     1.0     8.0   \n",
              "market_segment_type                           NaN        NaN     NaN     NaN   \n",
              "repeated_guest                           0.025637   0.158053     0.0     0.0   \n",
              "no_of_previous_cancellations             0.023349   0.368331     0.0     0.0   \n",
              "no_of_previous_bookings_not_canceled     0.153411   1.754171     0.0     0.0   \n",
              "avg_price_per_room                     103.423539  35.089424     0.0    80.3   \n",
              "no_of_special_requests                   0.619655   0.786236     0.0     0.0   \n",
              "booking_status                                NaN        NaN     NaN     NaN   \n",
              "\n",
              "                                         50%     75%     max  \n",
              "no_of_adults                             2.0     2.0     4.0  \n",
              "no_of_children                           0.0     0.0    10.0  \n",
              "no_of_weekend_nights                     1.0     2.0     7.0  \n",
              "no_of_week_nights                        2.0     3.0    17.0  \n",
              "type_of_meal_plan                        NaN     NaN     NaN  \n",
              "required_car_parking_space               0.0     0.0     1.0  \n",
              "room_type_reserved                       NaN     NaN     NaN  \n",
              "lead_time                               57.0   126.0   443.0  \n",
              "arrival_year                          2018.0  2018.0  2018.0  \n",
              "arrival_month                            8.0    10.0    12.0  \n",
              "arrival_date                            16.0    23.0    31.0  \n",
              "market_segment_type                      NaN     NaN     NaN  \n",
              "repeated_guest                           0.0     0.0     1.0  \n",
              "no_of_previous_cancellations             0.0     0.0    13.0  \n",
              "no_of_previous_bookings_not_canceled     0.0     0.0    58.0  \n",
              "avg_price_per_room                     99.45   120.0   540.0  \n",
              "no_of_special_requests                   0.0     1.0     5.0  \n",
              "booking_status                           NaN     NaN     NaN  "
            ]
          },
          "execution_count": 11,
          "metadata": {},
          "output_type": "execute_result"
        }
      ],
      "source": [
        "# Remove _________ and complete the code\n",
        "data.describe(include=\"all\").T"
      ]
    },
    {
      "cell_type": "markdown",
      "id": "personal-detector",
      "metadata": {
        "id": "personal-detector"
      },
      "source": [
        "#### Sumary Observations\n",
        "\n",
        "It's clear from `no_of_adults`, `no_of_children`, `no_of_weekend_nights` and `no_of_week_nights` that this hotel is frequented by pleasure travelers without children though it can accommodate larger family parties. They prefer to eat breakfast at the hotel and eat out for their other meals based on `type_of_meal_plan`. They travel from out of town as they don't have cars based on  `required_car_parking_space` (assuming local people who use public transport would have no need of a hotel). By far, the most popular room is _Room_Type 1_ based on `room_type_reserved`. They book well in advance (another indicator of pleasure travel) and they tend to travel later in the year based on `lead_time` and `arrival_month`. (`arrival_year` and `arrival_date` aren't very interesting.) Theses travelers overwhemingly book online `market_segment_type` but they are not loyal customers (`repeated_guest`). In fact, loyal guests are outliers (`no_of_previous_cancellations` and `no_of_previous_bookings_not_canceled`). Each room earns on average €103. Two-thirds of their bookings are fulfilled with one-third cancelled.\n"
      ]
    },
    {
      "cell_type": "markdown",
      "id": "realistic-mortgage",
      "metadata": {
        "id": "realistic-mortgage"
      },
      "source": [
        "## **Exploratory Data Analysis**"
      ]
    },
    {
      "cell_type": "markdown",
      "id": "arbitrary-intelligence",
      "metadata": {
        "id": "arbitrary-intelligence"
      },
      "source": [
        "### **Question 2: Univariate Analysis**"
      ]
    },
    {
      "cell_type": "markdown",
      "id": "mieBnCRTbgT-",
      "metadata": {
        "id": "mieBnCRTbgT-"
      },
      "source": [
        "Let's explore these variables in some more depth by observing their distributions."
      ]
    },
    {
      "cell_type": "markdown",
      "id": "X76cVRmTb-Wb",
      "metadata": {
        "id": "X76cVRmTb-Wb"
      },
      "source": [
        "We will first define a **hist_box() function** that provides both a boxplot and a histogram in the same visual, with which we can perform univariate analysis on the columns of this dataset."
      ]
    },
    {
      "cell_type": "code",
      "execution_count": 12,
      "id": "9k4V_XXCb495",
      "metadata": {
        "id": "9k4V_XXCb495"
      },
      "outputs": [],
      "source": [
        "# Defining the hist_box() function\n",
        "def hist_box(data,col):\n",
        "  f, (ax_box, ax_hist) = plt.subplots(2, sharex=True, gridspec_kw={'height_ratios': (0.15, 0.85)}, figsize=(12,6))\n",
        "  # Adding a graph in each part\n",
        "  sns.boxplot(x=data[col], ax=ax_box, showmeans=True)\n",
        "  sns.distplot(x=data[col], ax=ax_hist)\n",
        "  plt.show()"
      ]
    },
    {
      "cell_type": "markdown",
      "id": "GfcXGfchXHLV",
      "metadata": {
        "id": "GfcXGfchXHLV"
      },
      "source": [
        "#### **Question 2.1:  Plot the histogram and box plot for the variable `Lead Time` using the hist_box function provided and write your insights. (1 Mark)**"
      ]
    },
    {
      "cell_type": "code",
      "execution_count": 13,
      "id": "italian-imagination",
      "metadata": {
        "id": "italian-imagination"
      },
      "outputs": [
        {
          "data": {
            "image/png": "[encoded data removed]",
            "text/plain": [
              "<Figure size 1200x600 with 2 Axes>"
            ]
          },
          "metadata": {},
          "output_type": "display_data"
        }
      ],
      "source": [
        "# Remove _________ and complete the code\n",
        "hist_box(data, 'lead_time')"
      ]
    },
    {
      "cell_type": "markdown",
      "id": "racial-pointer",
      "metadata": {
        "id": "racial-pointer"
      },
      "source": [
        "From the boxplot, lead times 280/290 are outliers and that makes perfect sense. This isn't Disney World. From the histogram, we see that lead times are skewed towards shorter stays with the mean inside Q3 and long tail going out to the right. Last minute reservations are by far the most common booking."
      ]
    },
    {
      "cell_type": "markdown",
      "id": "UklkmdoEWPD-",
      "metadata": {
        "id": "UklkmdoEWPD-"
      },
      "source": [
        "#### **Question 2.2:  Plot the histogram and box plot for the variable `Average Price per Room` using the hist_box function provided and write your insights. (1 Mark)**"
      ]
    },
    {
      "cell_type": "code",
      "execution_count": null,
      "id": "f7596398",
      "metadata": {},
      "outputs": [],
      "source": []
    },
    {
      "cell_type": "code",
      "execution_count": 14,
      "id": "liable-guess",
      "metadata": {
        "id": "liable-guess"
      },
      "outputs": [
        {
          "data": {
            "image/png": "[encoded data removed]",
            "text/plain": [
              "<Figure size 1200x600 with 2 Axes>"
            ]
          },
          "metadata": {},
          "output_type": "display_data"
        }
      ],
      "source": [
        "# Remove _________ and complete the code\n",
        "hist_box(data, \"avg_price_per_room\")"
      ]
    },
    {
      "cell_type": "markdown",
      "id": "little-metadata",
      "metadata": {
        "id": "little-metadata"
      },
      "source": [
        "Average price per room is fairly normal and skewed toward higher on average prices. The zero price rooms are outliers which makes good sense."
      ]
    },
    {
      "cell_type": "markdown",
      "id": "KP4f-yCq72Xl",
      "metadata": {
        "id": "KP4f-yCq72Xl"
      },
      "source": [
        "**Interestingly some rooms have a price equal to 0. Let's check them.**"
      ]
    },
    {
      "cell_type": "code",
      "execution_count": 15,
      "id": "southern-organic",
      "metadata": {
        "id": "southern-organic"
      },
      "outputs": [
        {
          "data": {
            "text/html": [
              "<div>\n",
              "<style scoped>\n",
              "    .dataframe tbody tr th:only-of-type {\n",
              "        vertical-align: middle;\n",
              "    }\n",
              "\n",
              "    .dataframe tbody tr th {\n",
              "        vertical-align: top;\n",
              "    }\n",
              "\n",
              "    .dataframe thead th {\n",
              "        text-align: right;\n",
              "    }\n",
              "</style>\n",
              "<table border=\"1\" class=\"dataframe\">\n",
              "  <thead>\n",
              "    <tr style=\"text-align: right;\">\n",
              "      <th></th>\n",
              "      <th>no_of_adults</th>\n",
              "      <th>no_of_children</th>\n",
              "      <th>no_of_weekend_nights</th>\n",
              "      <th>no_of_week_nights</th>\n",
              "      <th>type_of_meal_plan</th>\n",
              "      <th>required_car_parking_space</th>\n",
              "      <th>room_type_reserved</th>\n",
              "      <th>lead_time</th>\n",
              "      <th>arrival_year</th>\n",
              "      <th>arrival_month</th>\n",
              "      <th>arrival_date</th>\n",
              "      <th>market_segment_type</th>\n",
              "      <th>repeated_guest</th>\n",
              "      <th>no_of_previous_cancellations</th>\n",
              "      <th>no_of_previous_bookings_not_canceled</th>\n",
              "      <th>avg_price_per_room</th>\n",
              "      <th>no_of_special_requests</th>\n",
              "      <th>booking_status</th>\n",
              "    </tr>\n",
              "  </thead>\n",
              "  <tbody>\n",
              "    <tr>\n",
              "      <th>63</th>\n",
              "      <td>1</td>\n",
              "      <td>0</td>\n",
              "      <td>0</td>\n",
              "      <td>1</td>\n",
              "      <td>Meal Plan 1</td>\n",
              "      <td>0</td>\n",
              "      <td>Room_Type 1</td>\n",
              "      <td>2</td>\n",
              "      <td>2017</td>\n",
              "      <td>9</td>\n",
              "      <td>10</td>\n",
              "      <td>Complementary</td>\n",
              "      <td>0</td>\n",
              "      <td>0</td>\n",
              "      <td>0</td>\n",
              "      <td>0.0</td>\n",
              "      <td>1</td>\n",
              "      <td>Not_Canceled</td>\n",
              "    </tr>\n",
              "    <tr>\n",
              "      <th>145</th>\n",
              "      <td>1</td>\n",
              "      <td>0</td>\n",
              "      <td>0</td>\n",
              "      <td>2</td>\n",
              "      <td>Meal Plan 1</td>\n",
              "      <td>0</td>\n",
              "      <td>Room_Type 1</td>\n",
              "      <td>13</td>\n",
              "      <td>2018</td>\n",
              "      <td>6</td>\n",
              "      <td>1</td>\n",
              "      <td>Complementary</td>\n",
              "      <td>1</td>\n",
              "      <td>3</td>\n",
              "      <td>5</td>\n",
              "      <td>0.0</td>\n",
              "      <td>1</td>\n",
              "      <td>Not_Canceled</td>\n",
              "    </tr>\n",
              "    <tr>\n",
              "      <th>209</th>\n",
              "      <td>1</td>\n",
              "      <td>0</td>\n",
              "      <td>0</td>\n",
              "      <td>0</td>\n",
              "      <td>Meal Plan 1</td>\n",
              "      <td>0</td>\n",
              "      <td>Room_Type 1</td>\n",
              "      <td>4</td>\n",
              "      <td>2018</td>\n",
              "      <td>2</td>\n",
              "      <td>27</td>\n",
              "      <td>Complementary</td>\n",
              "      <td>0</td>\n",
              "      <td>0</td>\n",
              "      <td>0</td>\n",
              "      <td>0.0</td>\n",
              "      <td>1</td>\n",
              "      <td>Not_Canceled</td>\n",
              "    </tr>\n",
              "    <tr>\n",
              "      <th>266</th>\n",
              "      <td>1</td>\n",
              "      <td>0</td>\n",
              "      <td>0</td>\n",
              "      <td>2</td>\n",
              "      <td>Meal Plan 1</td>\n",
              "      <td>0</td>\n",
              "      <td>Room_Type 1</td>\n",
              "      <td>1</td>\n",
              "      <td>2017</td>\n",
              "      <td>8</td>\n",
              "      <td>12</td>\n",
              "      <td>Complementary</td>\n",
              "      <td>1</td>\n",
              "      <td>0</td>\n",
              "      <td>1</td>\n",
              "      <td>0.0</td>\n",
              "      <td>1</td>\n",
              "      <td>Not_Canceled</td>\n",
              "    </tr>\n",
              "    <tr>\n",
              "      <th>267</th>\n",
              "      <td>1</td>\n",
              "      <td>0</td>\n",
              "      <td>2</td>\n",
              "      <td>1</td>\n",
              "      <td>Meal Plan 1</td>\n",
              "      <td>0</td>\n",
              "      <td>Room_Type 1</td>\n",
              "      <td>4</td>\n",
              "      <td>2017</td>\n",
              "      <td>8</td>\n",
              "      <td>23</td>\n",
              "      <td>Complementary</td>\n",
              "      <td>0</td>\n",
              "      <td>0</td>\n",
              "      <td>0</td>\n",
              "      <td>0.0</td>\n",
              "      <td>1</td>\n",
              "      <td>Not_Canceled</td>\n",
              "    </tr>\n",
              "    <tr>\n",
              "      <th>...</th>\n",
              "      <td>...</td>\n",
              "      <td>...</td>\n",
              "      <td>...</td>\n",
              "      <td>...</td>\n",
              "      <td>...</td>\n",
              "      <td>...</td>\n",
              "      <td>...</td>\n",
              "      <td>...</td>\n",
              "      <td>...</td>\n",
              "      <td>...</td>\n",
              "      <td>...</td>\n",
              "      <td>...</td>\n",
              "      <td>...</td>\n",
              "      <td>...</td>\n",
              "      <td>...</td>\n",
              "      <td>...</td>\n",
              "      <td>...</td>\n",
              "      <td>...</td>\n",
              "    </tr>\n",
              "    <tr>\n",
              "      <th>35983</th>\n",
              "      <td>1</td>\n",
              "      <td>0</td>\n",
              "      <td>0</td>\n",
              "      <td>1</td>\n",
              "      <td>Meal Plan 1</td>\n",
              "      <td>0</td>\n",
              "      <td>Room_Type 7</td>\n",
              "      <td>0</td>\n",
              "      <td>2018</td>\n",
              "      <td>6</td>\n",
              "      <td>7</td>\n",
              "      <td>Complementary</td>\n",
              "      <td>1</td>\n",
              "      <td>4</td>\n",
              "      <td>17</td>\n",
              "      <td>0.0</td>\n",
              "      <td>1</td>\n",
              "      <td>Not_Canceled</td>\n",
              "    </tr>\n",
              "    <tr>\n",
              "      <th>36080</th>\n",
              "      <td>1</td>\n",
              "      <td>0</td>\n",
              "      <td>1</td>\n",
              "      <td>1</td>\n",
              "      <td>Meal Plan 1</td>\n",
              "      <td>0</td>\n",
              "      <td>Room_Type 7</td>\n",
              "      <td>0</td>\n",
              "      <td>2018</td>\n",
              "      <td>3</td>\n",
              "      <td>21</td>\n",
              "      <td>Complementary</td>\n",
              "      <td>1</td>\n",
              "      <td>3</td>\n",
              "      <td>15</td>\n",
              "      <td>0.0</td>\n",
              "      <td>1</td>\n",
              "      <td>Not_Canceled</td>\n",
              "    </tr>\n",
              "    <tr>\n",
              "      <th>36114</th>\n",
              "      <td>1</td>\n",
              "      <td>0</td>\n",
              "      <td>0</td>\n",
              "      <td>1</td>\n",
              "      <td>Meal Plan 1</td>\n",
              "      <td>0</td>\n",
              "      <td>Room_Type 1</td>\n",
              "      <td>1</td>\n",
              "      <td>2018</td>\n",
              "      <td>3</td>\n",
              "      <td>2</td>\n",
              "      <td>Online</td>\n",
              "      <td>0</td>\n",
              "      <td>0</td>\n",
              "      <td>0</td>\n",
              "      <td>0.0</td>\n",
              "      <td>0</td>\n",
              "      <td>Not_Canceled</td>\n",
              "    </tr>\n",
              "    <tr>\n",
              "      <th>36217</th>\n",
              "      <td>2</td>\n",
              "      <td>0</td>\n",
              "      <td>2</td>\n",
              "      <td>1</td>\n",
              "      <td>Meal Plan 1</td>\n",
              "      <td>0</td>\n",
              "      <td>Room_Type 2</td>\n",
              "      <td>3</td>\n",
              "      <td>2017</td>\n",
              "      <td>8</td>\n",
              "      <td>9</td>\n",
              "      <td>Online</td>\n",
              "      <td>0</td>\n",
              "      <td>0</td>\n",
              "      <td>0</td>\n",
              "      <td>0.0</td>\n",
              "      <td>2</td>\n",
              "      <td>Not_Canceled</td>\n",
              "    </tr>\n",
              "    <tr>\n",
              "      <th>36250</th>\n",
              "      <td>1</td>\n",
              "      <td>0</td>\n",
              "      <td>0</td>\n",
              "      <td>2</td>\n",
              "      <td>Meal Plan 2</td>\n",
              "      <td>0</td>\n",
              "      <td>Room_Type 1</td>\n",
              "      <td>6</td>\n",
              "      <td>2017</td>\n",
              "      <td>12</td>\n",
              "      <td>10</td>\n",
              "      <td>Online</td>\n",
              "      <td>0</td>\n",
              "      <td>0</td>\n",
              "      <td>0</td>\n",
              "      <td>0.0</td>\n",
              "      <td>0</td>\n",
              "      <td>Not_Canceled</td>\n",
              "    </tr>\n",
              "  </tbody>\n",
              "</table>\n",
              "<p>545 rows × 18 columns</p>\n",
              "</div>"
            ],
            "text/plain": [
              "       no_of_adults  no_of_children  no_of_weekend_nights  no_of_week_nights  \\\n",
              "63                1               0                     0                  1   \n",
              "145               1               0                     0                  2   \n",
              "209               1               0                     0                  0   \n",
              "266               1               0                     0                  2   \n",
              "267               1               0                     2                  1   \n",
              "...             ...             ...                   ...                ...   \n",
              "35983             1               0                     0                  1   \n",
              "36080             1               0                     1                  1   \n",
              "36114             1               0                     0                  1   \n",
              "36217             2               0                     2                  1   \n",
              "36250             1               0                     0                  2   \n",
              "\n",
              "      type_of_meal_plan  required_car_parking_space room_type_reserved  \\\n",
              "63          Meal Plan 1                           0        Room_Type 1   \n",
              "145         Meal Plan 1                           0        Room_Type 1   \n",
              "209         Meal Plan 1                           0        Room_Type 1   \n",
              "266         Meal Plan 1                           0        Room_Type 1   \n",
              "267         Meal Plan 1                           0        Room_Type 1   \n",
              "...                 ...                         ...                ...   \n",
              "35983       Meal Plan 1                           0        Room_Type 7   \n",
              "36080       Meal Plan 1                           0        Room_Type 7   \n",
              "36114       Meal Plan 1                           0        Room_Type 1   \n",
              "36217       Meal Plan 1                           0        Room_Type 2   \n",
              "36250       Meal Plan 2                           0        Room_Type 1   \n",
              "\n",
              "       lead_time  arrival_year  arrival_month  arrival_date  \\\n",
              "63             2          2017              9            10   \n",
              "145           13          2018              6             1   \n",
              "209            4          2018              2            27   \n",
              "266            1          2017              8            12   \n",
              "267            4          2017              8            23   \n",
              "...          ...           ...            ...           ...   \n",
              "35983          0          2018              6             7   \n",
              "36080          0          2018              3            21   \n",
              "36114          1          2018              3             2   \n",
              "36217          3          2017              8             9   \n",
              "36250          6          2017             12            10   \n",
              "\n",
              "      market_segment_type  repeated_guest  no_of_previous_cancellations  \\\n",
              "63          Complementary               0                             0   \n",
              "145         Complementary               1                             3   \n",
              "209         Complementary               0                             0   \n",
              "266         Complementary               1                             0   \n",
              "267         Complementary               0                             0   \n",
              "...                   ...             ...                           ...   \n",
              "35983       Complementary               1                             4   \n",
              "36080       Complementary               1                             3   \n",
              "36114              Online               0                             0   \n",
              "36217              Online               0                             0   \n",
              "36250              Online               0                             0   \n",
              "\n",
              "       no_of_previous_bookings_not_canceled  avg_price_per_room  \\\n",
              "63                                        0                 0.0   \n",
              "145                                       5                 0.0   \n",
              "209                                       0                 0.0   \n",
              "266                                       1                 0.0   \n",
              "267                                       0                 0.0   \n",
              "...                                     ...                 ...   \n",
              "35983                                    17                 0.0   \n",
              "36080                                    15                 0.0   \n",
              "36114                                     0                 0.0   \n",
              "36217                                     0                 0.0   \n",
              "36250                                     0                 0.0   \n",
              "\n",
              "       no_of_special_requests booking_status  \n",
              "63                          1   Not_Canceled  \n",
              "145                         1   Not_Canceled  \n",
              "209                         1   Not_Canceled  \n",
              "266                         1   Not_Canceled  \n",
              "267                         1   Not_Canceled  \n",
              "...                       ...            ...  \n",
              "35983                       1   Not_Canceled  \n",
              "36080                       1   Not_Canceled  \n",
              "36114                       0   Not_Canceled  \n",
              "36217                       2   Not_Canceled  \n",
              "36250                       0   Not_Canceled  \n",
              "\n",
              "[545 rows x 18 columns]"
            ]
          },
          "execution_count": 15,
          "metadata": {},
          "output_type": "execute_result"
        }
      ],
      "source": [
        "data[data[\"avg_price_per_room\"] == 0]"
      ]
    },
    {
      "cell_type": "markdown",
      "id": "voluntary-diagnosis",
      "metadata": {
        "id": "voluntary-diagnosis"
      },
      "source": [
        "- There are quite a few hotel rooms which have a price equal to 0.\n",
        "- In the market segment column, it looks like many values are complementary."
      ]
    },
    {
      "cell_type": "code",
      "execution_count": 16,
      "id": "written-stone",
      "metadata": {
        "id": "written-stone"
      },
      "outputs": [
        {
          "data": {
            "text/plain": [
              "Complementary    354\n",
              "Online           191\n",
              "Name: market_segment_type, dtype: int64"
            ]
          },
          "execution_count": 16,
          "metadata": {},
          "output_type": "execute_result"
        }
      ],
      "source": [
        "data.loc[data[\"avg_price_per_room\"] == 0, \"market_segment_type\"].value_counts()"
      ]
    },
    {
      "cell_type": "markdown",
      "id": "nutritional-gamma",
      "metadata": {
        "id": "nutritional-gamma"
      },
      "source": [
        "* It makes sense that most values with room prices equal to 0 are the rooms given as complimentary service from the hotel.\n",
        "* The rooms booked online must be a part of some promotional campaign done by the hotel."
      ]
    },
    {
      "cell_type": "code",
      "execution_count": 17,
      "id": "potential-klein",
      "metadata": {
        "id": "potential-klein"
      },
      "outputs": [
        {
          "data": {
            "text/plain": [
              "179.55"
            ]
          },
          "execution_count": 17,
          "metadata": {},
          "output_type": "execute_result"
        }
      ],
      "source": [
        "# Calculating the 25th quantile\n",
        "Q1 = data[\"avg_price_per_room\"].quantile(0.25)\n",
        "\n",
        "# Calculating the 75th quantile\n",
        "Q3 = data[\"avg_price_per_room\"].quantile(0.75)\n",
        "\n",
        "# Calculating IQR\n",
        "IQR = Q3 - Q1\n",
        "\n",
        "# Calculating value of upper whisker\n",
        "Upper_Whisker = Q3 + 1.5 * IQR\n",
        "Upper_Whisker"
      ]
    },
    {
      "cell_type": "code",
      "execution_count": 18,
      "id": "assured-holder",
      "metadata": {
        "id": "assured-holder"
      },
      "outputs": [],
      "source": [
        "# assigning the outliers the value of upper whisker\n",
        "data.loc[data[\"avg_price_per_room\"] >= 500, \"avg_price_per_room\"] = Upper_Whisker"
      ]
    },
    {
      "cell_type": "markdown",
      "id": "skGK7OuPumzs",
      "metadata": {
        "id": "skGK7OuPumzs"
      },
      "source": [
        "#### **Let's understand the distribution of the categorical variables**"
      ]
    },
    {
      "cell_type": "markdown",
      "id": "7dvPDVs3YQV-",
      "metadata": {
        "id": "7dvPDVs3YQV-"
      },
      "source": [
        "**Number of Children**"
      ]
    },
    {
      "cell_type": "code",
      "execution_count": 19,
      "id": "finite-kingston",
      "metadata": {
        "id": "finite-kingston"
      },
      "outputs": [
        {
          "data": {
            "image/png": "[encoded data removed]",
            "text/plain": [
              "<Figure size 640x480 with 1 Axes>"
            ]
          },
          "metadata": {},
          "output_type": "display_data"
        }
      ],
      "source": [
        "sns.countplot(x=data['no_of_children'])\n",
        "plt.show()"
      ]
    },
    {
      "cell_type": "code",
      "execution_count": 20,
      "id": "Rd-seHBO-rtT",
      "metadata": {
        "id": "Rd-seHBO-rtT"
      },
      "outputs": [
        {
          "data": {
            "text/plain": [
              "0     0.925624\n",
              "1     0.044604\n",
              "2     0.029166\n",
              "3     0.000524\n",
              "9     0.000055\n",
              "10    0.000028\n",
              "Name: no_of_children, dtype: float64"
            ]
          },
          "execution_count": 20,
          "metadata": {},
          "output_type": "execute_result"
        }
      ],
      "source": [
        "data['no_of_children'].value_counts(normalize=True)"
      ]
    },
    {
      "cell_type": "markdown",
      "id": "animated-three",
      "metadata": {
        "id": "animated-three"
      },
      "source": [
        "* Customers were not travelling with children in 93% of cases.\n",
        "* There are some values in the data where the number of children is 9 or 10, which is highly unlikely. \n",
        "* We will replace these values with the maximum value of 3 children."
      ]
    },
    {
      "cell_type": "code",
      "execution_count": 21,
      "id": "necessary-employee",
      "metadata": {
        "id": "necessary-employee"
      },
      "outputs": [],
      "source": [
        "# replacing 9, and 10 children with 3\n",
        "data[\"no_of_children\"] = data[\"no_of_children\"].replace([9, 10], 3)"
      ]
    },
    {
      "cell_type": "markdown",
      "id": "thick-coordination",
      "metadata": {
        "id": "thick-coordination"
      },
      "source": [
        "**Arrival Month**"
      ]
    },
    {
      "cell_type": "code",
      "execution_count": 22,
      "id": "expensive-deposit",
      "metadata": {
        "id": "expensive-deposit"
      },
      "outputs": [
        {
          "data": {
            "image/png": "[encoded data removed]",
            "text/plain": [
              "<Figure size 640x480 with 1 Axes>"
            ]
          },
          "metadata": {},
          "output_type": "display_data"
        }
      ],
      "source": [
        "sns.countplot(x=data[\"arrival_month\"])\n",
        "plt.show()"
      ]
    },
    {
      "cell_type": "code",
      "execution_count": 23,
      "id": "2DpFp56Tvo3I",
      "metadata": {
        "id": "2DpFp56Tvo3I"
      },
      "outputs": [
        {
          "data": {
            "text/plain": [
              "10    0.146575\n",
              "9     0.127112\n",
              "8     0.105114\n",
              "6     0.088298\n",
              "12    0.083280\n",
              "11    0.082150\n",
              "7     0.080496\n",
              "4     0.075424\n",
              "5     0.071620\n",
              "3     0.065003\n",
              "2     0.046975\n",
              "1     0.027953\n",
              "Name: arrival_month, dtype: float64"
            ]
          },
          "execution_count": 23,
          "metadata": {},
          "output_type": "execute_result"
        }
      ],
      "source": [
        "data['arrival_month'].value_counts(normalize=True)"
      ]
    },
    {
      "cell_type": "markdown",
      "id": "affected-right",
      "metadata": {
        "id": "affected-right"
      },
      "source": [
        "* October is the busiest month for hotel arrivals followed by September and August. **Over 35% of all bookings**, as we see in the above table, were for one of these three months.\n",
        "* Around 14.7% of the bookings were made for an October arrival."
      ]
    },
    {
      "cell_type": "markdown",
      "id": "dramatic-karaoke",
      "metadata": {
        "id": "dramatic-karaoke"
      },
      "source": [
        "**Booking Status**"
      ]
    },
    {
      "cell_type": "code",
      "execution_count": 24,
      "id": "happy-collins",
      "metadata": {
        "id": "happy-collins"
      },
      "outputs": [
        {
          "data": {
            "image/png": "[encoded data removed]",
            "text/plain": [
              "<Figure size 640x480 with 1 Axes>"
            ]
          },
          "metadata": {},
          "output_type": "display_data"
        }
      ],
      "source": [
        "sns.countplot(x=data[\"booking_status\"])\n",
        "plt.show()"
      ]
    },
    {
      "cell_type": "code",
      "execution_count": 25,
      "id": "wOeK2StJzykk",
      "metadata": {
        "id": "wOeK2StJzykk"
      },
      "outputs": [
        {
          "data": {
            "text/plain": [
              "Not_Canceled    0.672364\n",
              "Canceled        0.327636\n",
              "Name: booking_status, dtype: float64"
            ]
          },
          "execution_count": 25,
          "metadata": {},
          "output_type": "execute_result"
        }
      ],
      "source": [
        "data['booking_status'].value_counts(normalize=True)"
      ]
    },
    {
      "cell_type": "markdown",
      "id": "quantitative-fetish",
      "metadata": {
        "id": "quantitative-fetish"
      },
      "source": [
        "* 32.8% of the bookings were canceled by the customers."
      ]
    },
    {
      "cell_type": "markdown",
      "id": "pharmaceutical-grill",
      "metadata": {
        "id": "pharmaceutical-grill"
      },
      "source": [
        "**Let's encode Canceled bookings to 1 and Not_Canceled as 0 for further analysis**"
      ]
    },
    {
      "cell_type": "code",
      "execution_count": 26,
      "id": "voluntary-irish",
      "metadata": {
        "id": "voluntary-irish"
      },
      "outputs": [],
      "source": [
        "data[\"booking_status\"] = data[\"booking_status\"].apply(\n",
        "    lambda x: 1 if x == \"Canceled\" else 0\n",
        ")"
      ]
    },
    {
      "cell_type": "markdown",
      "id": "arranged-courtesy",
      "metadata": {
        "id": "arranged-courtesy"
      },
      "source": [
        "### **Question 3: Bivariate Analysis**"
      ]
    },
    {
      "cell_type": "markdown",
      "id": "D4vIqPb9aaZW",
      "metadata": {
        "id": "D4vIqPb9aaZW"
      },
      "source": [
        "#### **Question 3.1: Find and visualize the correlation matrix using a heatmap and write your observations from the plot. (2 Marks)**\n",
        "\n"
      ]
    },
    {
      "cell_type": "code",
      "execution_count": 27,
      "id": "official-wyoming",
      "metadata": {
        "id": "official-wyoming"
      },
      "outputs": [
        {
          "data": {
            "image/png": "[encoded data removed]",
            "text/plain": [
              "<Figure size 1200x700 with 2 Axes>"
            ]
          },
          "metadata": {},
          "output_type": "display_data"
        }
      ],
      "source": [
        "# Remove _________ and complete the code\n",
        "cols_list = data.select_dtypes(include=np.number).columns.tolist()\n",
        "\n",
        "plt.figure(figsize=(12, 7))\n",
        "sns.heatmap(data[cols_list].corr())\n",
        "plt.show()"
      ]
    },
    {
      "cell_type": "markdown",
      "id": "brave-hamilton",
      "metadata": {
        "id": "brave-hamilton"
      },
      "source": [
        "Unsurprisingly, lead time is relatively more correlated with booking status and repeat/loyal guests are correlated with reservations with or without prior cancellations. Again unsurprisingly, number of adults and children has some correlation with the room price and the number of special requests. \n"
      ]
    },
    {
      "cell_type": "markdown",
      "id": "quick-works",
      "metadata": {
        "id": "quick-works"
      },
      "source": [
        "**Hotel rates are dynamic and change according to demand and customer demographics. Let's see how prices vary across different market segments**"
      ]
    },
    {
      "cell_type": "code",
      "execution_count": 28,
      "id": "animal-depth",
      "metadata": {
        "id": "animal-depth"
      },
      "outputs": [
        {
          "data": {
            "image/png": "[encoded data removed]",
            "text/plain": [
              "<Figure size 1000x600 with 1 Axes>"
            ]
          },
          "metadata": {},
          "output_type": "display_data"
        }
      ],
      "source": [
        "plt.figure(figsize=(10, 6))\n",
        "sns.boxplot(\n",
        "    data=data, x=\"market_segment_type\", y=\"avg_price_per_room\", palette=\"gist_rainbow\"\n",
        ")\n",
        "plt.show()"
      ]
    },
    {
      "cell_type": "markdown",
      "id": "advised-community",
      "metadata": {
        "id": "advised-community"
      },
      "source": [
        "* Rooms booked online have high variations in prices.\n",
        "* The offline and corporate room prices are almost similar.\n",
        "* Complementary market segment gets the rooms at very low prices, which makes sense."
      ]
    },
    {
      "cell_type": "markdown",
      "id": "FJhhg4y4i3wO",
      "metadata": {
        "id": "FJhhg4y4i3wO"
      },
      "source": [
        "We will define a **stacked barplot()** function to help analyse how the target variable varies across predictor categories."
      ]
    },
    {
      "cell_type": "code",
      "execution_count": 29,
      "id": "GjDZRQMWiCEs",
      "metadata": {
        "id": "GjDZRQMWiCEs"
      },
      "outputs": [],
      "source": [
        "# Defining the stacked_barplot() function\n",
        "def stacked_barplot(data,predictor,target,figsize=(10,6)):\n",
        "  (pd.crosstab(data[predictor],data[target],normalize='index')*100).plot(kind='bar',figsize=figsize,stacked=True)\n",
        "  plt.legend(loc=\"lower right\")\n",
        "  plt.ylabel('Percentage Cancellations %')"
      ]
    },
    {
      "cell_type": "markdown",
      "id": "75988GXzuEub",
      "metadata": {
        "id": "75988GXzuEub"
      },
      "source": [
        "#### **Question 3.2: Plot the stacked barplot for the variable `Market Segment Type` against the target variable `Booking Status` using the stacked_barplot  function provided and write your insights. (1 Mark)**"
      ]
    },
    {
      "cell_type": "code",
      "execution_count": 30,
      "id": "aMUKgxiFryyN",
      "metadata": {
        "id": "aMUKgxiFryyN"
      },
      "outputs": [
        {
          "data": {
            "image/png": "[encoded data removed]",
            "text/plain": [
              "<Figure size 1000x600 with 1 Axes>"
            ]
          },
          "metadata": {},
          "output_type": "display_data"
        }
      ],
      "source": [
        "# Remove _________ and complete the code\n",
        "stacked_barplot(data, 'market_segment_type', 'booking_status')"
      ]
    },
    {
      "cell_type": "markdown",
      "id": "IpvdhoHSuhrz",
      "metadata": {
        "id": "IpvdhoHSuhrz"
      },
      "source": [
        "* No one cancels a free room!\n",
        "* Aviation and Offline bookings perform identically.\n",
        "* Online bookings are the most likely to be cancelled.\n"
      ]
    },
    {
      "cell_type": "markdown",
      "id": "gUldUCUYu3Qb",
      "metadata": {
        "id": "gUldUCUYu3Qb"
      },
      "source": [
        "#### **Question 3.3: Plot the stacked barplot for the variable `Repeated Guest` against the target variable `Booking Status` using the stacked_barplot  function provided and write your insights. (1 Mark)**\n",
        "\n",
        "Repeating guests are the guests who stay in the hotel often and are important to brand equity."
      ]
    },
    {
      "cell_type": "code",
      "execution_count": 31,
      "id": "L2AteH8ru-Lm",
      "metadata": {
        "id": "L2AteH8ru-Lm"
      },
      "outputs": [
        {
          "data": {
            "image/png": "[encoded data removed]",
            "text/plain": [
              "<Figure size 1000x600 with 1 Axes>"
            ]
          },
          "metadata": {},
          "output_type": "display_data"
        }
      ],
      "source": [
        "# Remove _________ and complete the code\n",
        "stacked_barplot(data, 'repeated_guest', 'booking_status')"
      ]
    },
    {
      "cell_type": "markdown",
      "id": "nmrkaaZPvRGr",
      "metadata": {
        "id": "nmrkaaZPvRGr"
      },
      "source": [
        "* As stated earlier, loyal customers are far less likely to cancel esp. compared to their one-and-done brethren.\n"
      ]
    },
    {
      "cell_type": "markdown",
      "id": "WMJ96mlkvhR8",
      "metadata": {
        "id": "WMJ96mlkvhR8"
      },
      "source": [
        "**Let's analyze the customer who stayed for at least a day at the hotel.**"
      ]
    },
    {
      "cell_type": "code",
      "execution_count": 32,
      "id": "j0UdS10Wvfqd",
      "metadata": {
        "id": "j0UdS10Wvfqd"
      },
      "outputs": [
        {
          "data": {
            "image/png": "[encoded data removed]",
            "text/plain": [
              "<Figure size 1500x600 with 1 Axes>"
            ]
          },
          "metadata": {},
          "output_type": "display_data"
        }
      ],
      "source": [
        "stay_data = data[(data[\"no_of_week_nights\"] > 0) & (data[\"no_of_weekend_nights\"] > 0)]\n",
        "stay_data[\"total_days\"] = (stay_data[\"no_of_week_nights\"] + stay_data[\"no_of_weekend_nights\"])\n",
        "\n",
        "stacked_barplot(stay_data, \"total_days\", \"booking_status\",figsize=(15,6))"
      ]
    },
    {
      "cell_type": "markdown",
      "id": "-aDjNRtfvgNV",
      "metadata": {
        "id": "-aDjNRtfvgNV"
      },
      "source": [
        "* The general trend is that the chances of cancellation increase as the number of days the customer planned to stay at the hotel increases."
      ]
    },
    {
      "cell_type": "markdown",
      "id": "tired-bridges",
      "metadata": {
        "id": "tired-bridges"
      },
      "source": [
        "**As hotel room prices are dynamic, Let's see how the prices vary across different months**"
      ]
    },
    {
      "cell_type": "code",
      "execution_count": 33,
      "id": "atomic-locator",
      "metadata": {
        "id": "atomic-locator"
      },
      "outputs": [
        {
          "data": {
            "image/png": "[encoded data removed]",
            "text/plain": [
              "<Figure size 1000x500 with 1 Axes>"
            ]
          },
          "metadata": {},
          "output_type": "display_data"
        }
      ],
      "source": [
        "plt.figure(figsize=(10, 5))\n",
        "sns.lineplot(y=data[\"avg_price_per_room\"], x=data[\"arrival_month\"], ci=None)\n",
        "plt.show()"
      ]
    },
    {
      "cell_type": "markdown",
      "id": "incorporated-northern",
      "metadata": {
        "id": "incorporated-northern"
      },
      "source": [
        "* The price of rooms is highest in May to September - around 115 euros per room."
      ]
    },
    {
      "cell_type": "markdown",
      "id": "pleased-chicken",
      "metadata": {
        "id": "pleased-chicken"
      },
      "source": [
        "## **Data Preparation for Modeling**\n",
        "\n",
        "- We want to predict which bookings will be canceled.\n",
        "- Before we proceed to build a model, we'll have to encode categorical features.\n",
        "- We'll split the data into train and test to be able to evaluate the model that we build on the train data."
      ]
    },
    {
      "cell_type": "markdown",
      "id": "Q1yU3LeM5p73",
      "metadata": {
        "id": "Q1yU3LeM5p73"
      },
      "source": [
        "**Separating the independent variables (X) and the dependent variable (Y)**"
      ]
    },
    {
      "cell_type": "code",
      "execution_count": 34,
      "id": "durable-allergy",
      "metadata": {
        "id": "durable-allergy"
      },
      "outputs": [],
      "source": [
        "X = data.drop([\"booking_status\"], axis=1)\n",
        "Y = data[\"booking_status\"]\n",
        "\n",
        "X = pd.get_dummies(X, drop_first=True) # Encoding the Categorical features"
      ]
    },
    {
      "cell_type": "markdown",
      "id": "ugL1fDmu5sU-",
      "metadata": {
        "id": "ugL1fDmu5sU-"
      },
      "source": [
        "**Splitting the data into a 70% train and 30% test set**\n",
        "\n",
        "Some classification problems can exhibit a large imbalance in the distribution of the target classes: for instance there could be several times more negative samples than positive samples. In such cases it is recommended to use the **stratified sampling** technique to ensure that relative class frequencies are approximately preserved in each train and validation fold."
      ]
    },
    {
      "cell_type": "code",
      "execution_count": 35,
      "id": "Xve9js0S5xPV",
      "metadata": {
        "id": "Xve9js0S5xPV"
      },
      "outputs": [],
      "source": [
        "# Splitting data in train and test sets\n",
        "X_train, X_test, y_train, y_test = train_test_split(X, Y, test_size=0.30,stratify=Y, random_state=1)"
      ]
    },
    {
      "cell_type": "code",
      "execution_count": 36,
      "id": "ecological-principal",
      "metadata": {
        "id": "ecological-principal"
      },
      "outputs": [
        {
          "name": "stdout",
          "output_type": "stream",
          "text": [
            "Shape of Training set :  (25392, 27)\n",
            "Shape of test set :  (10883, 27)\n",
            "Percentage of classes in training set:\n",
            "0    0.672377\n",
            "1    0.327623\n",
            "Name: booking_status, dtype: float64\n",
            "Percentage of classes in test set:\n",
            "0    0.672333\n",
            "1    0.327667\n",
            "Name: booking_status, dtype: float64\n"
          ]
        }
      ],
      "source": [
        "print(\"Shape of Training set : \", X_train.shape)\n",
        "print(\"Shape of test set : \", X_test.shape)\n",
        "print(\"Percentage of classes in training set:\")\n",
        "print(y_train.value_counts(normalize=True))\n",
        "print(\"Percentage of classes in test set:\")\n",
        "print(y_test.value_counts(normalize=True))"
      ]
    },
    {
      "cell_type": "markdown",
      "id": "cultural-engagement",
      "metadata": {
        "id": "cultural-engagement"
      },
      "source": [
        "## **Model Evaluation Criterion**\n",
        "\n",
        "#### **Model can make wrong predictions as:**\n",
        "\n",
        "1. Predicting a customer will not cancel their booking but in reality, the customer will cancel their booking.\n",
        "2. Predicting a customer will cancel their booking but in reality, the customer will not cancel their booking. \n",
        "\n",
        "#### **Which case is more important?** \n",
        "\n",
        "Both the cases are important as:\n",
        "\n",
        "* If we predict that a booking will not be canceled and the booking gets canceled then the hotel will lose resources and will have to bear additional costs of distribution channels.\n",
        "\n",
        "* If we predict that a booking will get canceled and the booking doesn't get canceled the hotel might not be able to provide satisfactory services to the customer by assuming that this booking will be canceled. This might damage brand equity. \n",
        "\n",
        "\n",
        "\n",
        "#### **How to reduce the losses?**\n",
        "\n",
        "* The hotel would want the `F1 Score` to be maximized, the greater the F1  score, the higher the chances of minimizing False Negatives and False Positives. "
      ]
    },
    {
      "cell_type": "markdown",
      "id": "TIvULwEQ6NJO",
      "metadata": {
        "id": "TIvULwEQ6NJO"
      },
      "source": [
        "**Also, let's create a function to calculate and print the classification report and confusion matrix so that we don't have to rewrite the same code repeatedly for each model.**"
      ]
    },
    {
      "cell_type": "code",
      "execution_count": 37,
      "id": "sx5AmqRM3Cxy",
      "metadata": {
        "id": "sx5AmqRM3Cxy"
      },
      "outputs": [],
      "source": [
        "# Creating metric function \n",
        "def metrics_score(actual, predicted):\n",
        "    print(classification_report(actual, predicted))\n",
        "\n",
        "    cm = confusion_matrix(actual, predicted)\n",
        "    plt.figure(figsize=(8,5))\n",
        "    \n",
        "    sns.heatmap(cm, annot=True,  fmt='.2f', xticklabels=['Not Cancelled', 'Cancelled'], yticklabels=['Not Cancelled', 'Cancelled'])\n",
        "    plt.ylabel('Actual')\n",
        "    plt.xlabel('Predicted')\n",
        "    plt.show()"
      ]
    },
    {
      "cell_type": "markdown",
      "id": "V6r7bPlp8W3E",
      "metadata": {
        "id": "V6r7bPlp8W3E"
      },
      "source": [
        "## **Building the model**\n",
        "\n",
        "We will be building 4 different models:\n",
        "\n",
        "- **Logistic Regression**\n",
        "- **Support Vector Machine (SVM)**\n",
        "- **Decision Tree**\n",
        "- **Random Forest**"
      ]
    },
    {
      "cell_type": "markdown",
      "id": "opposed-glance",
      "metadata": {
        "id": "opposed-glance"
      },
      "source": [
        "### **Question 4: Logistic Regression (6 Marks)**"
      ]
    },
    {
      "cell_type": "markdown",
      "id": "bT_PaZ94M5hb",
      "metadata": {
        "id": "bT_PaZ94M5hb"
      },
      "source": [
        "#### **Question 4.1: Build a Logistic Regression model (Use the sklearn library) (1 Mark)**"
      ]
    },
    {
      "cell_type": "code",
      "execution_count": 38,
      "id": "nominated-tumor",
      "metadata": {
        "id": "nominated-tumor"
      },
      "outputs": [
        {
          "data": {
            "text/html": [
              "<style>#sk-container-id-1 {color: black;background-color: white;}#sk-container-id-1 pre{padding: 0;}#sk-container-id-1 div.sk-toggleable {background-color: white;}#sk-container-id-1 label.sk-toggleable__label {cursor: pointer;display: block;width: 100%;margin-bottom: 0;padding: 0.3em;box-sizing: border-box;text-align: center;}#sk-container-id-1 label.sk-toggleable__label-arrow:before {content: \"▸\";float: left;margin-right: 0.25em;color: #696969;}#sk-container-id-1 label.sk-toggleable__label-arrow:hover:before {color: black;}#sk-container-id-1 div.sk-estimator:hover label.sk-toggleable__label-arrow:before {color: black;}#sk-container-id-1 div.sk-toggleable__content {max-height: 0;max-width: 0;overflow: hidden;text-align: left;background-color: #f0f8ff;}#sk-container-id-1 div.sk-toggleable__content pre {margin: 0.2em;color: black;border-radius: 0.25em;background-color: #f0f8ff;}#sk-container-id-1 input.sk-toggleable__control:checked~div.sk-toggleable__content {max-height: 200px;max-width: 100%;overflow: auto;}#sk-container-id-1 input.sk-toggleable__control:checked~label.sk-toggleable__label-arrow:before {content: \"▾\";}#sk-container-id-1 div.sk-estimator input.sk-toggleable__control:checked~label.sk-toggleable__label {background-color: #d4ebff;}#sk-container-id-1 div.sk-label input.sk-toggleable__control:checked~label.sk-toggleable__label {background-color: #d4ebff;}#sk-container-id-1 input.sk-hidden--visually {border: 0;clip: rect(1px 1px 1px 1px);clip: rect(1px, 1px, 1px, 1px);height: 1px;margin: -1px;overflow: hidden;padding: 0;position: absolute;width: 1px;}#sk-container-id-1 div.sk-estimator {font-family: monospace;background-color: #f0f8ff;border: 1px dotted black;border-radius: 0.25em;box-sizing: border-box;margin-bottom: 0.5em;}#sk-container-id-1 div.sk-estimator:hover {background-color: #d4ebff;}#sk-container-id-1 div.sk-parallel-item::after {content: \"\";width: 100%;border-bottom: 1px solid gray;flex-grow: 1;}#sk-container-id-1 div.sk-label:hover label.sk-toggleable__label {background-color: #d4ebff;}#sk-container-id-1 div.sk-serial::before {content: \"\";position: absolute;border-left: 1px solid gray;box-sizing: border-box;top: 0;bottom: 0;left: 50%;z-index: 0;}#sk-container-id-1 div.sk-serial {display: flex;flex-direction: column;align-items: center;background-color: white;padding-right: 0.2em;padding-left: 0.2em;position: relative;}#sk-container-id-1 div.sk-item {position: relative;z-index: 1;}#sk-container-id-1 div.sk-parallel {display: flex;align-items: stretch;justify-content: center;background-color: white;position: relative;}#sk-container-id-1 div.sk-item::before, #sk-container-id-1 div.sk-parallel-item::before {content: \"\";position: absolute;border-left: 1px solid gray;box-sizing: border-box;top: 0;bottom: 0;left: 50%;z-index: -1;}#sk-container-id-1 div.sk-parallel-item {display: flex;flex-direction: column;z-index: 1;position: relative;background-color: white;}#sk-container-id-1 div.sk-parallel-item:first-child::after {align-self: flex-end;width: 50%;}#sk-container-id-1 div.sk-parallel-item:last-child::after {align-self: flex-start;width: 50%;}#sk-container-id-1 div.sk-parallel-item:only-child::after {width: 0;}#sk-container-id-1 div.sk-dashed-wrapped {border: 1px dashed gray;margin: 0 0.4em 0.5em 0.4em;box-sizing: border-box;padding-bottom: 0.4em;background-color: white;}#sk-container-id-1 div.sk-label label {font-family: monospace;font-weight: bold;display: inline-block;line-height: 1.2em;}#sk-container-id-1 div.sk-label-container {text-align: center;}#sk-container-id-1 div.sk-container {/* jupyter's `normalize.less` sets `[hidden] { display: none; }` but bootstrap.min.css set `[hidden] { display: none !important; }` so we also need the `!important` here to be able to override the default hidden behavior on the sphinx rendered scikit-learn.org. See: https://github.com/scikit-learn/scikit-learn/issues/21755 */display: inline-block !important;position: relative;}#sk-container-id-1 div.sk-text-repr-fallback {display: none;}</style><div id=\"sk-container-id-1\" class=\"sk-top-container\"><div class=\"sk-text-repr-fallback\"><pre>LogisticRegression()</pre><b>In a Jupyter environment, please rerun this cell to show the HTML representation or trust the notebook. <br />On GitHub, the HTML representation is unable to render, please try loading this page with nbviewer.org.</b></div><div class=\"sk-container\" hidden><div class=\"sk-item\"><div class=\"sk-estimator sk-toggleable\"><input class=\"sk-toggleable__control sk-hidden--visually\" id=\"sk-estimator-id-1\" type=\"checkbox\" checked><label for=\"sk-estimator-id-1\" class=\"sk-toggleable__label sk-toggleable__label-arrow\">LogisticRegression</label><div class=\"sk-toggleable__content\"><pre>LogisticRegression()</pre></div></div></div></div></div>"
            ],
            "text/plain": [
              "LogisticRegression()"
            ]
          },
          "execution_count": 38,
          "metadata": {},
          "output_type": "execute_result"
        }
      ],
      "source": [
        "# Remove _________ and complete the code\n",
        "\n",
        "# Fitting logistic regression model\n",
        "lg = LogisticRegression()\n",
        "lg.fit(X_train, y_train)"
      ]
    },
    {
      "cell_type": "markdown",
      "id": "KY_E1udCOCcN",
      "metadata": {
        "id": "KY_E1udCOCcN"
      },
      "source": [
        "#### **Question 4.2: Check the performance of the model on train and test data (2 Marks)**"
      ]
    },
    {
      "cell_type": "code",
      "execution_count": 39,
      "id": "generous-investing",
      "metadata": {
        "id": "generous-investing"
      },
      "outputs": [
        {
          "name": "stdout",
          "output_type": "stream",
          "text": [
            "              precision    recall  f1-score   support\n",
            "\n",
            "           0       0.82      0.90      0.86     17073\n",
            "           1       0.74      0.60      0.67      8319\n",
            "\n",
            "    accuracy                           0.80     25392\n",
            "   macro avg       0.78      0.75      0.76     25392\n",
            "weighted avg       0.80      0.80      0.79     25392\n",
            "\n"
          ]
        },
        {
          "data": {
            "image/png": "[encoded data removed]",
            "text/plain": [
              "<Figure size 800x500 with 2 Axes>"
            ]
          },
          "metadata": {},
          "output_type": "display_data"
        }
      ],
      "source": [
        "# Remove _________ and complete the code\n",
        "\n",
        "# Checking the performance on the training data\n",
        "y_pred_train = lg.predict(X_train)\n",
        "metrics_score(y_train, y_pred_train)"
      ]
    },
    {
      "cell_type": "markdown",
      "id": "52aOuAUFPJBL",
      "metadata": {
        "id": "52aOuAUFPJBL"
      },
      "source": [
        "By the F-score the model does equally well with train and test data so the model can be generalized with little overfitting. The issue is the model does worse at capturing cancellations than not. False negatives are double false positives and represent the greater problem. Still this model is usable in that it will capture and correctly model the majority of cancellations."
      ]
    },
    {
      "cell_type": "markdown",
      "id": "ycKHN5ZGWruu",
      "metadata": {
        "id": "ycKHN5ZGWruu"
      },
      "source": [
        "Let's check the performance on the test set"
      ]
    },
    {
      "cell_type": "code",
      "execution_count": 40,
      "id": "_hbaUbSr6g6d",
      "metadata": {
        "id": "_hbaUbSr6g6d"
      },
      "outputs": [
        {
          "name": "stdout",
          "output_type": "stream",
          "text": [
            "              precision    recall  f1-score   support\n",
            "\n",
            "           0       0.82      0.89      0.85      7317\n",
            "           1       0.73      0.59      0.65      3566\n",
            "\n",
            "    accuracy                           0.79     10883\n",
            "   macro avg       0.77      0.74      0.75     10883\n",
            "weighted avg       0.79      0.79      0.79     10883\n",
            "\n"
          ]
        },
        {
          "data": {
            "image/png": "[encoded data removed]",
            "text/plain": [
              "<Figure size 800x500 with 2 Axes>"
            ]
          },
          "metadata": {},
          "output_type": "display_data"
        }
      ],
      "source": [
        "# Remove _________ and complete the code\n",
        "\n",
        "# Checking the performance on the test dataset\n",
        "y_pred_test = lg.predict(X_test)\n",
        "metrics_score(y_test, y_pred_test)"
      ]
    },
    {
      "cell_type": "markdown",
      "id": "sBMbUH7DPKKT",
      "metadata": {
        "id": "sBMbUH7DPKKT"
      },
      "source": [
        "**Write your Answer here:** "
      ]
    },
    {
      "cell_type": "markdown",
      "id": "heated-intersection",
      "metadata": {
        "id": "heated-intersection"
      },
      "source": [
        "\n",
        "#### **Question 4.3: Find the optimal threshold for the model using the Precision-Recall Curve. (1 Mark)**\n",
        "\n",
        "Precision-Recall curves summarize the trade-off between the true positive rate and the positive predictive value for a predictive model using different probability thresholds.\n",
        "\n",
        "Let's use the Precision-Recall curve and see if we can find a **better threshold.**\n"
      ]
    },
    {
      "cell_type": "code",
      "execution_count": null,
      "id": "acute-newark",
      "metadata": {
        "id": "acute-newark"
      },
      "outputs": [],
      "source": [
        "# Remove _________ and complete the code\n",
        "\n",
        "# Predict_proba gives the probability of each observation belonging to each class\n",
        "y_scores_lg=lg.predict_proba(_______)\n",
        "\n",
        "precisions_lg, recalls_lg, thresholds_lg = precision_recall_curve(____________)\n",
        "\n",
        "# Plot values of precisions, recalls, and thresholds\n",
        "plt.figure(figsize=(10,7))\n",
        "plt.plot(thresholds_lg, precisions_lg[:-1], 'b--', label='precision')\n",
        "plt.plot(thresholds_lg, recalls_lg[:-1], 'g--', label = 'recall')\n",
        "plt.xlabel('Threshold')\n",
        "plt.legend(loc='upper left')\n",
        "plt.ylim([0,1])\n",
        "plt.show()"
      ]
    },
    {
      "cell_type": "markdown",
      "id": "supported-series",
      "metadata": {
        "id": "supported-series"
      },
      "source": [
        "**Write your answers here:_____**\n"
      ]
    },
    {
      "cell_type": "code",
      "execution_count": null,
      "id": "brown-advertiser",
      "metadata": {
        "id": "brown-advertiser"
      },
      "outputs": [],
      "source": [
        "# Setting the optimal threshold\n",
        "optimal_threshold = ___________"
      ]
    },
    {
      "cell_type": "markdown",
      "id": "environmental-surface",
      "metadata": {
        "id": "environmental-surface"
      },
      "source": [
        "#### **Question 4.4: Check the performance of the model on train and test data using the optimal threshold. (2 Marks)**"
      ]
    },
    {
      "cell_type": "code",
      "execution_count": null,
      "id": "mental-albany",
      "metadata": {
        "id": "mental-albany"
      },
      "outputs": [],
      "source": [
        "# Remove _________ and complete the code\n",
        "\n",
        "# Creating confusion matrix\n",
        "y_pred_train = lg.predict_proba(________)\n",
        "metrics_score(______________)"
      ]
    },
    {
      "cell_type": "markdown",
      "id": "indoor-equity",
      "metadata": {
        "id": "indoor-equity"
      },
      "source": [
        "**Write your answers here:_____**\n"
      ]
    },
    {
      "cell_type": "markdown",
      "id": "xK2YZU-oYwnr",
      "metadata": {
        "id": "xK2YZU-oYwnr"
      },
      "source": [
        "Let's check the performance on the test set"
      ]
    },
    {
      "cell_type": "code",
      "execution_count": null,
      "id": "needed-trial",
      "metadata": {
        "id": "needed-trial"
      },
      "outputs": [],
      "source": [
        "# Remove _________ and complete the code\n",
        "\n",
        "y_pred_test = lg.predict_proba(__________)\n",
        "metrics_score(____________)"
      ]
    },
    {
      "cell_type": "markdown",
      "id": "virgin-polls",
      "metadata": {
        "id": "virgin-polls"
      },
      "source": [
        "**Write your answers here:_____**\n"
      ]
    },
    {
      "cell_type": "markdown",
      "id": "42mzmgkfAB6r",
      "metadata": {
        "id": "42mzmgkfAB6r"
      },
      "source": [
        "### **Question 5: Support Vector Machines (11 Marks)**"
      ]
    },
    {
      "cell_type": "markdown",
      "id": "DzJnFhWNry13",
      "metadata": {
        "id": "DzJnFhWNry13"
      },
      "source": [
        "To accelerate SVM training, let's scale the data for support vector machines."
      ]
    },
    {
      "cell_type": "code",
      "execution_count": null,
      "id": "rvXQgpBFrxRv",
      "metadata": {
        "id": "rvXQgpBFrxRv"
      },
      "outputs": [],
      "source": [
        "scaling = MinMaxScaler(feature_range=(-1,1)).fit(X_train)\n",
        "X_train_scaled = scaling.transform(X_train)\n",
        "X_test_scaled = scaling.transform(X_test)"
      ]
    },
    {
      "cell_type": "markdown",
      "id": "ZF0KYzZYAB-I",
      "metadata": {
        "id": "ZF0KYzZYAB-I"
      },
      "source": [
        "Let's build the models using the two of the widely used kernel functions:\n",
        "\n",
        "1.   **Linear Kernel**\n",
        "2.   **RBF Kernel**\n",
        "\n"
      ]
    },
    {
      "cell_type": "markdown",
      "id": "ym5BVbHfH6gQ",
      "metadata": {
        "id": "ym5BVbHfH6gQ"
      },
      "source": [
        "#### **Question 5.1: Build a Support Vector Machine model using a linear kernel (1 Mark)**"
      ]
    },
    {
      "cell_type": "markdown",
      "id": "wAY_HOopDom6",
      "metadata": {
        "id": "wAY_HOopDom6"
      },
      "source": [
        "**Note: Please use the scaled data for modeling Support Vector Machine**"
      ]
    },
    {
      "cell_type": "code",
      "execution_count": null,
      "id": "YjXGT-G3AArW",
      "metadata": {
        "id": "YjXGT-G3AArW"
      },
      "outputs": [],
      "source": [
        "# Remove _________ and complete the code\n",
        "\n",
        "svm = SVC(kernel=______,probability=True) # Linear kernal or linear decision boundary\n",
        "model = svm.fit(___________)"
      ]
    },
    {
      "cell_type": "markdown",
      "id": "xPYFGhb6BSfJ",
      "metadata": {
        "id": "xPYFGhb6BSfJ"
      },
      "source": [
        "#### **Question 5.2: Check the performance of the model on train and test data (2 Marks)**"
      ]
    },
    {
      "cell_type": "code",
      "execution_count": null,
      "id": "3xWoYJarBBBF",
      "metadata": {
        "id": "3xWoYJarBBBF"
      },
      "outputs": [],
      "source": [
        "# Remove _________ and complete the code\n",
        "\n",
        "y_pred_train_svm = model.predict(__________)\n",
        "metrics_score(______________)"
      ]
    },
    {
      "cell_type": "markdown",
      "id": "NOSJn5ZKRTDS",
      "metadata": {
        "id": "NOSJn5ZKRTDS"
      },
      "source": [
        "**Write your answers here:_____**\n"
      ]
    },
    {
      "cell_type": "markdown",
      "id": "zgbgteTXyVN5",
      "metadata": {
        "id": "zgbgteTXyVN5"
      },
      "source": [
        "Checking model performance on test set"
      ]
    },
    {
      "cell_type": "code",
      "execution_count": null,
      "id": "8fpUk_cIAAuv",
      "metadata": {
        "id": "8fpUk_cIAAuv"
      },
      "outputs": [],
      "source": [
        "# Remove _________ and complete the code\n",
        "\n",
        "y_pred_test_svm = model.predict(___________)\n",
        "metrics_score(____________)"
      ]
    },
    {
      "cell_type": "markdown",
      "id": "uQhJR6A4dLRr",
      "metadata": {
        "id": "uQhJR6A4dLRr"
      },
      "source": [
        "**Write your answers here:_____**\n"
      ]
    },
    {
      "cell_type": "markdown",
      "id": "biqGCISyTSHj",
      "metadata": {
        "id": "biqGCISyTSHj"
      },
      "source": [
        "#### **Question 5.3: Find the optimal threshold for the model using the Precision-Recall Curve. (1 Mark)**\n"
      ]
    },
    {
      "cell_type": "code",
      "execution_count": null,
      "id": "-m-5ArrO0m_A",
      "metadata": {
        "id": "-m-5ArrO0m_A"
      },
      "outputs": [],
      "source": [
        "# Remove _________ and complete the code\n",
        "\n",
        "# Predict on train data\n",
        "y_scores_svm=model.predict_proba(____________)\n",
        "\n",
        "precisions_svm, recalls_svm, thresholds_svm = _________________\n",
        "\n",
        "# Plot values of precisions, recalls, and thresholds\n",
        "plt.figure(figsize=(10,7))\n",
        "plt.plot(thresholds_svm, precisions_svm[:-1], 'b--', label='precision')\n",
        "plt.plot(thresholds_svm, recalls_svm[:-1], 'g--', label = 'recall')\n",
        "plt.xlabel('Threshold')\n",
        "plt.legend(loc='upper left')\n",
        "plt.ylim([0,1])\n",
        "plt.show()"
      ]
    },
    {
      "cell_type": "markdown",
      "id": "KIhLeNBKEplE",
      "metadata": {
        "id": "KIhLeNBKEplE"
      },
      "source": [
        "**Write your answers here:_____**\n"
      ]
    },
    {
      "cell_type": "code",
      "execution_count": null,
      "id": "0G6DAkF_Thzl",
      "metadata": {
        "id": "0G6DAkF_Thzl"
      },
      "outputs": [],
      "source": [
        "optimal_threshold_svm=____________"
      ]
    },
    {
      "cell_type": "markdown",
      "id": "KavLMkflTm57",
      "metadata": {
        "id": "KavLMkflTm57"
      },
      "source": [
        "#### **Question 5.4: Check the performance of the model on train and test data using the optimal threshold. (2 Marks)**"
      ]
    },
    {
      "cell_type": "code",
      "execution_count": null,
      "id": "ICf9R7L_TvS7",
      "metadata": {
        "id": "ICf9R7L_TvS7"
      },
      "outputs": [],
      "source": [
        "# Remove _________ and complete the code\n",
        "\n",
        "y_pred_train_svm = model.________________\n",
        "metrics_score(__________________)"
      ]
    },
    {
      "cell_type": "markdown",
      "id": "5X5QMI2VS3_h",
      "metadata": {
        "id": "5X5QMI2VS3_h"
      },
      "source": [
        "**Write your answers here:_____**\n"
      ]
    },
    {
      "cell_type": "code",
      "execution_count": null,
      "id": "s2BC_MXfH2x6",
      "metadata": {
        "id": "s2BC_MXfH2x6"
      },
      "outputs": [],
      "source": [
        "# Remove _________ and complete the code\n",
        "\n",
        "y_pred_test = model._______________\n",
        "metrics_score(________________)"
      ]
    },
    {
      "cell_type": "markdown",
      "id": "QCuuTrvCGSyK",
      "metadata": {
        "id": "QCuuTrvCGSyK"
      },
      "source": [
        "**Write your answers here:_____**\n"
      ]
    },
    {
      "cell_type": "markdown",
      "id": "RWKtJmto0mwB",
      "metadata": {
        "id": "RWKtJmto0mwB"
      },
      "source": [
        "#### **Question 5.5: Build a Support Vector Machines model using an RBF kernel (1 Mark)**"
      ]
    },
    {
      "cell_type": "code",
      "execution_count": null,
      "id": "lJTfIaQ30m5o",
      "metadata": {
        "id": "lJTfIaQ30m5o"
      },
      "outputs": [],
      "source": [
        "# Remove _________ and complete the code\n",
        "\n",
        "svm_rbf=SVC(kernel=_______,probability=True)\n",
        "svm_rbf.fit(______________)"
      ]
    },
    {
      "cell_type": "markdown",
      "id": "wA1qWKRS025i",
      "metadata": {
        "id": "wA1qWKRS025i"
      },
      "source": [
        "#### **Question 5.6: Check the performance of the model on train and test data (2 Marks)**\n",
        "\n"
      ]
    },
    {
      "cell_type": "code",
      "execution_count": null,
      "id": "EKjry-eL0vxy",
      "metadata": {
        "id": "EKjry-eL0vxy"
      },
      "outputs": [],
      "source": [
        "# Remove _________ and complete the code\n",
        "\n",
        "y_pred_train_svm = svm_rbf.predict(______________)\n",
        "metrics_score(_______________)"
      ]
    },
    {
      "cell_type": "markdown",
      "id": "eVQ7ISZPTEfy",
      "metadata": {
        "id": "eVQ7ISZPTEfy"
      },
      "source": [
        "**Write your answers here:_____**\n"
      ]
    },
    {
      "cell_type": "markdown",
      "id": "G-MGcMO903sp",
      "metadata": {
        "id": "G-MGcMO903sp"
      },
      "source": [
        "#### Checking model performance on test set"
      ]
    },
    {
      "cell_type": "code",
      "execution_count": null,
      "id": "s3WqNK2lUXlp",
      "metadata": {
        "id": "s3WqNK2lUXlp"
      },
      "outputs": [],
      "source": [
        "# Remove _________ and complete the code\n",
        "\n",
        "y_pred_test = svm_rbf.predict(________________)\n",
        "\n",
        "metrics_score(_____________)"
      ]
    },
    {
      "cell_type": "markdown",
      "id": "xeEUvWSZTlEA",
      "metadata": {
        "id": "xeEUvWSZTlEA"
      },
      "source": [
        "**Write your answers here:_____**\n"
      ]
    },
    {
      "cell_type": "code",
      "execution_count": null,
      "id": "IdktVBlKHuhM",
      "metadata": {
        "id": "IdktVBlKHuhM"
      },
      "outputs": [],
      "source": [
        "# Predict on train data\n",
        "y_scores_svm=svm_rbf.predict_proba(X_train_scaled)\n",
        "\n",
        "precisions_svm, recalls_svm, thresholds_svm = precision_recall_curve(y_train, y_scores_svm[:,1])\n",
        "\n",
        "# Plot values of precisions, recalls, and thresholds\n",
        "plt.figure(figsize=(10,7))\n",
        "plt.plot(thresholds_svm, precisions_svm[:-1], 'b--', label='precision')\n",
        "plt.plot(thresholds_svm, recalls_svm[:-1], 'g--', label = 'recall')\n",
        "plt.xlabel('Threshold')\n",
        "plt.legend(loc='upper left')\n",
        "plt.ylim([0,1])\n",
        "plt.show()"
      ]
    },
    {
      "cell_type": "code",
      "execution_count": null,
      "id": "TLTllfbBWYjo",
      "metadata": {
        "id": "TLTllfbBWYjo"
      },
      "outputs": [],
      "source": [
        "optimal_threshold_svm=__________"
      ]
    },
    {
      "cell_type": "markdown",
      "id": "1OakprjnXNY8",
      "metadata": {
        "id": "1OakprjnXNY8"
      },
      "source": [
        "#### **Question 5.7: Check the performance of the model on train and test data using the optimal threshold. (2 Marks)**"
      ]
    },
    {
      "cell_type": "code",
      "execution_count": null,
      "id": "CjuakUWKsYMN",
      "metadata": {
        "id": "CjuakUWKsYMN"
      },
      "outputs": [],
      "source": [
        "# Remove _________ and complete the code\n",
        "\n",
        "y_pred_train_svm = model.predict_proba(_____________)\n",
        "metrics_score(____________)"
      ]
    },
    {
      "cell_type": "markdown",
      "id": "jaZgooCfFoLx",
      "metadata": {
        "id": "jaZgooCfFoLx"
      },
      "source": [
        "**Write your answers here:_____**\n"
      ]
    },
    {
      "cell_type": "code",
      "execution_count": null,
      "id": "nQs1WAI_2jlr",
      "metadata": {
        "id": "nQs1WAI_2jlr"
      },
      "outputs": [],
      "source": [
        "# Remove _________ and complete the code\n",
        "\n",
        "y_pred_test = svm_rbf.predict_proba(____________)\n",
        "metrics_score(____________)"
      ]
    },
    {
      "cell_type": "markdown",
      "id": "xBu1WHxOOyg8",
      "metadata": {
        "id": "xBu1WHxOOyg8"
      },
      "source": [
        "**Write your answers here:_____**\n"
      ]
    },
    {
      "cell_type": "markdown",
      "id": "separated-prague",
      "metadata": {
        "id": "separated-prague"
      },
      "source": [
        "### **Question 6: Decision Trees (7 Marks)**"
      ]
    },
    {
      "cell_type": "markdown",
      "id": "immune-malta",
      "metadata": {
        "id": "immune-malta"
      },
      "source": [
        "#### **Question 6.1: Build a Decision Tree Model (1 Mark)**"
      ]
    },
    {
      "cell_type": "code",
      "execution_count": null,
      "id": "recognized-nurse",
      "metadata": {
        "id": "recognized-nurse"
      },
      "outputs": [],
      "source": [
        "# Remove _________ and complete the code\n",
        "\n",
        "model_dt = ______________\n",
        "model_dt.fit(______________)"
      ]
    },
    {
      "cell_type": "markdown",
      "id": "identified-upper",
      "metadata": {
        "id": "identified-upper"
      },
      "source": [
        "#### **Question 6.2: Check the performance of the model on train and test data (2 Marks)**"
      ]
    },
    {
      "cell_type": "code",
      "execution_count": null,
      "id": "female-kennedy",
      "metadata": {
        "id": "female-kennedy"
      },
      "outputs": [],
      "source": [
        "# Remove _________ and complete the code\n",
        "\n",
        "# Checking performance on the training dataset\n",
        "pred_train_dt = model_dt.predict(_____________)\n",
        "metrics_score(_________________)"
      ]
    },
    {
      "cell_type": "markdown",
      "id": "laden-london",
      "metadata": {
        "id": "laden-london"
      },
      "source": [
        "**Write your answers here:_____**\n"
      ]
    },
    {
      "cell_type": "markdown",
      "id": "neither-omaha",
      "metadata": {
        "id": "neither-omaha"
      },
      "source": [
        "#### Checking model performance on test set"
      ]
    },
    {
      "cell_type": "code",
      "execution_count": null,
      "id": "42537a82",
      "metadata": {
        "id": "42537a82"
      },
      "outputs": [],
      "source": [
        "pred_test_dt = model_dt.predict(____________)\n",
        "metrics_score(____________)"
      ]
    },
    {
      "cell_type": "markdown",
      "id": "previous-stamp",
      "metadata": {
        "id": "previous-stamp"
      },
      "source": [
        "**Write your answers here:_____**\n"
      ]
    },
    {
      "cell_type": "markdown",
      "id": "detailed-possible",
      "metadata": {
        "id": "detailed-possible"
      },
      "source": [
        " #### **Question 6.3: Perform hyperparameter tuning for the decision tree model using GridSearch CV (1 Mark)**"
      ]
    },
    {
      "cell_type": "markdown",
      "id": "X1c6VAptGHDl",
      "metadata": {
        "id": "X1c6VAptGHDl"
      },
      "source": [
        "**Note: Please use the following hyperparameters provided for tuning the Decision Tree. In general, you can experiment with various hyperparameters to tune the decision tree, but for this project, we recommend sticking to the parameters provided.**"
      ]
    },
    {
      "cell_type": "code",
      "execution_count": null,
      "id": "romantic-stationery",
      "metadata": {
        "id": "romantic-stationery"
      },
      "outputs": [],
      "source": [
        "# Remove _________ and complete the code\n",
        "\n",
        "# Choose the type of classifier.\n",
        "estimator = ________________\n",
        "\n",
        "# Grid of parameters to choose from\n",
        "parameters = {\n",
        "    \"max_depth\": np.arange(2, 7, 2),\n",
        "    \"max_leaf_nodes\": [50, 75, 150, 250],\n",
        "    \"min_samples_split\": [10, 30, 50, 70],\n",
        "}\n",
        "\n",
        "\n",
        "# Run the grid search\n",
        "grid_obj = GridSearchCV(_____________)\n",
        "grid_obj = grid_obj.fit(______________)\n",
        "\n",
        "# Set the clf to the best combination of parameters\n",
        "estimator = grid_obj.best_estimator_\n",
        "\n",
        "# Fit the best algorithm to the data.\n",
        "estimator.fit(______________-)"
      ]
    },
    {
      "cell_type": "markdown",
      "id": "concrete-season",
      "metadata": {
        "id": "concrete-season"
      },
      "source": [
        "#### **Question 6.4: Check the performance of the model on the train and test data using the tuned model (2 Mark)**"
      ]
    },
    {
      "cell_type": "markdown",
      "id": "endangered-image",
      "metadata": {
        "id": "endangered-image"
      },
      "source": [
        "#### Checking performance on the training set "
      ]
    },
    {
      "cell_type": "code",
      "execution_count": null,
      "id": "skilled-poster",
      "metadata": {
        "id": "skilled-poster"
      },
      "outputs": [],
      "source": [
        "# Remove _________ and complete the code\n",
        "\n",
        "# Checking performance on the training dataset\n",
        "dt_tuned = estimator.predict(__________)\n",
        "metrics_score(________________)"
      ]
    },
    {
      "cell_type": "markdown",
      "id": "y7VVuoGMHf7C",
      "metadata": {
        "id": "y7VVuoGMHf7C"
      },
      "source": [
        "**Write your answers here:_____**\n"
      ]
    },
    {
      "cell_type": "code",
      "execution_count": null,
      "id": "killing-magnet",
      "metadata": {
        "id": "killing-magnet"
      },
      "outputs": [],
      "source": [
        "# Remove _________ and complete the code\n",
        "\n",
        "# Checking performance on the training dataset\n",
        "y_pred_tuned = estimator.predict(________)\n",
        "metrics_score(_____________)"
      ]
    },
    {
      "cell_type": "markdown",
      "id": "HmcGMUeNHmai",
      "metadata": {
        "id": "HmcGMUeNHmai"
      },
      "source": [
        "**Write your answers here:_____**\n"
      ]
    },
    {
      "cell_type": "markdown",
      "id": "frequent-grenada",
      "metadata": {
        "id": "frequent-grenada"
      },
      "source": [
        "#### **Visualizing the Decision Tree**"
      ]
    },
    {
      "cell_type": "code",
      "execution_count": null,
      "id": "driving-state",
      "metadata": {
        "id": "driving-state"
      },
      "outputs": [],
      "source": [
        "feature_names = list(X_train.columns)\n",
        "plt.figure(figsize=(20, 10))\n",
        "out = tree.plot_tree(\n",
        "    estimator,max_depth=3,\n",
        "    feature_names=feature_names,\n",
        "    filled=True,\n",
        "    fontsize=9,\n",
        "    node_ids=False,\n",
        "    class_names=None,\n",
        ")\n",
        "# below code will add arrows to the decision tree split if they are missing\n",
        "for o in out:\n",
        "    arrow = o.arrow_patch\n",
        "    if arrow is not None:\n",
        "        arrow.set_edgecolor(\"black\")\n",
        "        arrow.set_linewidth(1)\n",
        "plt.show()"
      ]
    },
    {
      "cell_type": "markdown",
      "id": "rational-details",
      "metadata": {
        "id": "rational-details"
      },
      "source": [
        "#### **Question 6.5: What are some important features based on the tuned decision tree? (1 Mark)**"
      ]
    },
    {
      "cell_type": "code",
      "execution_count": null,
      "id": "secure-killing",
      "metadata": {
        "id": "secure-killing"
      },
      "outputs": [],
      "source": [
        "# Remove _________ and complete the code\n",
        "\n",
        "# Importance of features in the tree building\n",
        "\n",
        "importances = estimator.___________\n",
        "indices = np.argsort(____________)\n",
        "\n",
        "plt.figure(figsize=(8, 8))\n",
        "plt.title(\"Feature Importances\")\n",
        "plt.barh(range(len(indices)), importances[indices], color=\"violet\", align=\"center\")\n",
        "plt.yticks(range(len(indices)), [feature_names[i] for i in indices])\n",
        "plt.xlabel(\"Relative Importance\")\n",
        "plt.show()"
      ]
    },
    {
      "cell_type": "markdown",
      "id": "differential-perth",
      "metadata": {
        "id": "differential-perth"
      },
      "source": [
        "**Write your answers here:_____**\n"
      ]
    },
    {
      "cell_type": "markdown",
      "id": "motLVEa4TL_U",
      "metadata": {
        "id": "motLVEa4TL_U"
      },
      "source": [
        "___"
      ]
    },
    {
      "cell_type": "markdown",
      "id": "_tkjO8cKHMO5",
      "metadata": {
        "id": "_tkjO8cKHMO5"
      },
      "source": [
        "### **Question 7: Random Forest (4 Marks)**"
      ]
    },
    {
      "cell_type": "markdown",
      "id": "1FuGyOqjc_4b",
      "metadata": {
        "id": "1FuGyOqjc_4b"
      },
      "source": [
        "#### **Question 7.1: Build a Random Forest Model (1 Mark)**"
      ]
    },
    {
      "cell_type": "code",
      "execution_count": null,
      "id": "bIsbmNYal1rj",
      "metadata": {
        "id": "bIsbmNYal1rj"
      },
      "outputs": [],
      "source": [
        "# Remove _________ and complete the code\n",
        "\n",
        "rf_estimator = ______________\n",
        "\n",
        "rf_estimator.fit(___________)"
      ]
    },
    {
      "cell_type": "markdown",
      "id": "SxYjZqTjd-Qk",
      "metadata": {
        "id": "SxYjZqTjd-Qk"
      },
      "source": [
        "#### **Question 7.2: Check the performance of the model on the train and test data (2 Marks)**"
      ]
    },
    {
      "cell_type": "code",
      "execution_count": null,
      "id": "M6jrat9ko0LO",
      "metadata": {
        "id": "M6jrat9ko0LO"
      },
      "outputs": [],
      "source": [
        "# Remove _________ and complete the code\n",
        "\n",
        "y_pred_train_rf = rf_estimator.predict(___________)\n",
        "\n",
        "metrics_score(______________)"
      ]
    },
    {
      "cell_type": "markdown",
      "id": "QUAlKVpUH_SG",
      "metadata": {
        "id": "QUAlKVpUH_SG"
      },
      "source": [
        "**Write your answers here:_____**\n"
      ]
    },
    {
      "cell_type": "code",
      "execution_count": null,
      "id": "2vMZodtJ1k4z",
      "metadata": {
        "id": "2vMZodtJ1k4z"
      },
      "outputs": [],
      "source": [
        "# Remove _________ and complete the code\n",
        "\n",
        "y_pred_test_rf = rf_estimator.predict(______________)\n",
        "\n",
        "metrics_score(______________)"
      ]
    },
    {
      "cell_type": "markdown",
      "id": "p8hPHFpRRTCr",
      "metadata": {
        "id": "p8hPHFpRRTCr"
      },
      "source": [
        "**Write your answers here:_____**\n"
      ]
    },
    {
      "cell_type": "markdown",
      "id": "xLrG8f7YeG9b",
      "metadata": {
        "id": "xLrG8f7YeG9b"
      },
      "source": [
        "#### **Question 7.3: What are some important features based on the Random Forest? (1 Mark)**"
      ]
    },
    {
      "cell_type": "markdown",
      "id": "4rAIPf5BSKes",
      "metadata": {
        "id": "4rAIPf5BSKes"
      },
      "source": [
        "Let's check the feature importance of the Random Forest"
      ]
    },
    {
      "cell_type": "code",
      "execution_count": null,
      "id": "lknDAkbZSI6B",
      "metadata": {
        "id": "lknDAkbZSI6B"
      },
      "outputs": [],
      "source": [
        "# Remove _________ and complete the code\n",
        "\n",
        "importances = rf_estimator._________________\n",
        "\n",
        "columns = X.columns\n",
        "\n",
        "importance_df = pd.DataFrame(____________________)\n",
        "\n",
        "plt.figure(figsize = (13, 13))\n",
        "\n",
        "sns.barplot(importance_df.Importance, importance_df.index)"
      ]
    },
    {
      "cell_type": "markdown",
      "id": "YuL7_Wc5Swa1",
      "metadata": {
        "id": "YuL7_Wc5Swa1"
      },
      "source": [
        "**Write your answers here:_____**\n"
      ]
    },
    {
      "cell_type": "markdown",
      "id": "f_5Q1zMbZuut",
      "metadata": {
        "id": "f_5Q1zMbZuut"
      },
      "source": [
        "### **Question 8: Conclude ANY FOUR key takeaways for business recommendations (4 Marks)**"
      ]
    },
    {
      "cell_type": "markdown",
      "id": "marked-coaching",
      "metadata": {
        "id": "marked-coaching"
      },
      "source": [
        "**Write your answers here:_____**\n"
      ]
    },
    {
      "cell_type": "markdown",
      "id": "wUzMsUCeIPaw",
      "metadata": {
        "id": "wUzMsUCeIPaw"
      },
      "source": [
        "## **Happy Learning!**"
      ]
    }
  ],
  "metadata": {
    "colab": {
      "collapsed_sections": [],
      "name": "CHT_Graded_Project-Learner-Notebook",
      "provenance": []
    },
    "kernelspec": {
      "display_name": "Python 3.10.8 ('.venv': poetry)",
      "language": "python",
      "name": "python3"
    },
    "language_info": {
      "codemirror_mode": {
        "name": "ipython",
        "version": 3
      },
      "file_extension": ".py",
      "mimetype": "text/x-python",
      "name": "python",
      "nbconvert_exporter": "python",
      "pygments_lexer": "ipython3",
      "version": "3.10.8"
    },
    "vscode": {
      "interpreter": {
        "hash": "3b8c45354b2036a6b2d9351ce672b419ee3851c18667dcb463b591ae5c96f822"
      }
    }
  },
  "nbformat": 4,
  "nbformat_minor": 5
}
